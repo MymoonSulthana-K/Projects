{
  "cells": [
    {
      "cell_type": "markdown",
      "metadata": {
        "id": "1HY1GYO14Dj_"
      },
      "source": [
        "#CNN"
      ]
    },
    {
      "cell_type": "code",
      "execution_count": null,
      "metadata": {
        "colab": {
          "base_uri": "https://localhost:8080/"
        },
        "id": "xV-sJRT4xFbz",
        "outputId": "f9eed8a9-12c8-42e5-e3a5-42acf6b4391f"
      },
      "outputs": [
        {
          "output_type": "stream",
          "name": "stdout",
          "text": [
            "Path to dataset files: /root/.cache/kagglehub/datasets/ckay16/accident-detection-from-cctv-footage/versions/1\n"
          ]
        }
      ],
      "source": [
        "import kagglehub\n",
        "\n",
        "# Download latest version\n",
        "path = kagglehub.dataset_download(\"ckay16/accident-detection-from-cctv-footage\")\n",
        "\n",
        "print(\"Path to dataset files:\", path)"
      ]
    },
    {
      "cell_type": "code",
      "execution_count": null,
      "metadata": {
        "colab": {
          "base_uri": "https://localhost:8080/"
        },
        "id": "owqGchVcxIzW",
        "outputId": "ef0c55bf-f544-484e-bdfb-662907e487bf",
        "collapsed": true
      },
      "outputs": [
        {
          "output_type": "stream",
          "name": "stdout",
          "text": [
            "Directory: /root/.cache/kagglehub/datasets/ckay16/accident-detection-from-cctv-footage/versions/1\n",
            "  Subdirectory: data\n",
            "Directory: /root/.cache/kagglehub/datasets/ckay16/accident-detection-from-cctv-footage/versions/1/data\n",
            "  Subdirectory: val\n",
            "  Subdirectory: test\n",
            "  Subdirectory: train\n",
            "Directory: /root/.cache/kagglehub/datasets/ckay16/accident-detection-from-cctv-footage/versions/1/data/val\n",
            "  Subdirectory: Non Accident\n",
            "  Subdirectory: Accident\n",
            "Directory: /root/.cache/kagglehub/datasets/ckay16/accident-detection-from-cctv-footage/versions/1/data/val/Non Accident\n",
            "  File: test25_22.jpg\n",
            "  File: test28_13.jpg\n",
            "  File: test25_17.jpg\n",
            "  File: test15_27.jpg\n",
            "  File: test9_6.jpg\n",
            "  File: test3_5.jpg\n",
            "  File: test20_7.jpg\n",
            "  File: test_22.jpg\n",
            "  File: test30_5.jpg\n",
            "  File: test9_15.jpg\n",
            "  File: test24_1.jpg\n",
            "  File: test10_3.jpg\n",
            "  File: test26_2.jpg\n",
            "  File: test4_21.jpg\n",
            "  File: test4_14.jpg\n",
            "  File: test15_18.jpg\n",
            "  File: 5_22.jpg\n",
            "  File: test11_49.jpg\n",
            "  File: test4_2.jpg\n",
            "  File: test3_25.jpg\n",
            "  File: test9_8.jpg\n",
            "  File: test28_14.jpg\n",
            "  File: test7_37.jpg\n",
            "  File: test17_29.jpg\n",
            "  File: test24_13.jpg\n",
            "  File: test14_5.jpg\n",
            "  File: test18_6.jpg\n",
            "  File: test_17.jpg\n",
            "  File: test26_11.jpg\n",
            "  File: test4_19.jpg\n",
            "  File: test4_5.jpg\n",
            "  File: test10_1.jpg\n",
            "  File: test14_3.jpg\n",
            "  File: test8_23.jpg\n",
            "  File: test26_8.jpg\n",
            "  File: test8_9.jpg\n",
            "  File: test7_43.jpg\n",
            "  File: test4_57.jpg\n",
            "  File: test9_12.jpg\n",
            "  File: test29_18.jpg\n",
            "  File: test18_12.jpg\n",
            "  File: test29_22.jpg\n",
            "  File: 5_26.jpg\n",
            "  File: test8_24.jpg\n",
            "  File: test16_12.jpg\n",
            "  File: 5_16.jpg\n",
            "  File: test25_10.jpg\n",
            "  File: test25_5.jpg\n",
            "  File: test22_17.jpg\n",
            "  File: test7_1.jpg\n",
            "  File: test24_8.jpg\n",
            "  File: test22_19.jpg\n",
            "Directory: /root/.cache/kagglehub/datasets/ckay16/accident-detection-from-cctv-footage/versions/1/data/val/Accident\n",
            "  File: test27_35.jpg\n",
            "  File: test10_54.jpg\n",
            "  File: test27_26.jpg\n",
            "  File: test30_13.jpg\n",
            "  File: test14_11.jpg\n",
            "  File: test7_32.jpg\n",
            "  File: test10_27.jpg\n",
            "  File: test10_36.jpg\n",
            "  File: test_30.jpg\n",
            "  File: test13_20.jpg\n",
            "  File: test16_28.jpg\n",
            "  File: test27_17.jpg\n",
            "  File: test26_26.jpg\n",
            "  File: test13_18.jpg\n",
            "  File: test21_22.jpg\n",
            "  File: acc1 (4).jpg\n",
            "  File: test10_23.jpg\n",
            "  File: test_37.jpg\n",
            "  File: test26_12.jpg\n",
            "  File: test22_27.jpg\n",
            "  File: test4_47.jpg\n",
            "  File: test15_9.jpg\n",
            "  File: test10_34.jpg\n",
            "  File: test18_25.jpg\n",
            "  File: test29_15.jpg\n",
            "  File: test27_18.jpg\n",
            "  File: test28_18.jpg\n",
            "  File: test27_9.jpg\n",
            "  File: test28_29.jpg\n",
            "  File: test26_15.jpg\n",
            "  File: test24_41.jpg\n",
            "  File: test_35.jpg\n",
            "  File: test3_26.jpg\n",
            "  File: test26_22.jpg\n",
            "  File: test10_22.jpg\n",
            "  File: test25_31.jpg\n",
            "  File: test_45.jpg\n",
            "  File: test23_15.jpg\n",
            "  File: test23_18.jpg\n",
            "  File: test14_19.jpg\n",
            "  File: test2_23.jpg\n",
            "  File: test27_21.jpg\n",
            "  File: test_26.jpg\n",
            "  File: acc1 (6).jpg\n",
            "  File: test_41.jpg\n",
            "  File: test28_31.jpg\n",
            "Directory: /root/.cache/kagglehub/datasets/ckay16/accident-detection-from-cctv-footage/versions/1/data/test\n",
            "  Subdirectory: Non Accident\n",
            "  Subdirectory: Accident\n",
            "Directory: /root/.cache/kagglehub/datasets/ckay16/accident-detection-from-cctv-footage/versions/1/data/test/Non Accident\n",
            "  File: test14_2.jpg\n",
            "  File: test12_1.jpg\n",
            "  File: test17_12.jpg\n",
            "  File: test11_12.jpg\n",
            "  File: test27_5.jpg\n",
            "  File: test22_4.jpg\n",
            "  File: 5_23.jpg\n",
            "  File: test19_15.jpg\n",
            "  File: test4_28.jpg\n",
            "  File: test4_60.jpg\n",
            "  File: test7_10.jpg\n",
            "  File: test18_15.jpg\n",
            "  File: test11_6.jpg\n",
            "  File: test29_3.jpg\n",
            "  File: test7_39.jpg\n",
            "  File: test10_5.jpg\n",
            "  File: test4_10.jpg\n",
            "  File: test18_5.jpg\n",
            "  File: test28_4.jpg\n",
            "  File: test4_53.jpg\n",
            "  File: test3_18.jpg\n",
            "  File: test8_22.jpg\n",
            "  File: test4_11.jpg\n",
            "  File: test_2.jpg\n",
            "  File: test15_20.jpg\n",
            "  File: test25_21.jpg\n",
            "  File: test28_5.jpg\n",
            "  File: test26_5.jpg\n",
            "  File: test1_9.jpg\n",
            "  File: test4_6.jpg\n",
            "  File: test29_6.jpg\n",
            "  File: test1_8.jpg\n",
            "  File: test25_1.jpg\n",
            "  File: test4_9.jpg\n",
            "  File: test3_40.jpg\n",
            "  File: Pictures - Shortcut.lnk\n",
            "  File: test9_20.jpg\n",
            "  File: test28_6.jpg\n",
            "  File: test15_29.jpg\n",
            "  File: test22_3.jpg\n",
            "  File: test28_3.jpg\n",
            "  File: test11_14.jpg\n",
            "  File: test28_1.jpg\n",
            "  File: test4_4.jpg\n",
            "  File: test16_4.jpg\n",
            "  File: test3_12.jpg\n",
            "  File: test29_19.jpg\n",
            "  File: test8_11.jpg\n",
            "  File: test7_22.jpg\n",
            "  File: test3_21.jpg\n",
            "  File: test8_3.jpg\n",
            "  File: test7_38.jpg\n",
            "  File: test28_10.jpg\n",
            "  File: test29_7.jpg\n",
            "Directory: /root/.cache/kagglehub/datasets/ckay16/accident-detection-from-cctv-footage/versions/1/data/test/Accident\n",
            "  File: test1_26.jpg\n",
            "  File: test1_18.jpg\n",
            "  File: test12_16.jpg\n",
            "  File: test28_26.jpg\n",
            "  File: test23_19.jpg\n",
            "  File: test18_24.jpg\n",
            "  File: test24_30.jpg\n",
            "  File: test10_33.jpg\n",
            "  File: test1_27.jpg\n",
            "  File: test28_20.jpg\n",
            "  File: test2_7.jpg\n",
            "  File: test28_23.jpg\n",
            "  File: test4_40.jpg\n",
            "  File: test10_61.jpg\n",
            "  File: test4_42.jpg\n",
            "  File: test1_20.jpg\n",
            "  File: test27_25.jpg\n",
            "  File: test1_24.jpg\n",
            "  File: test7_25.jpg\n",
            "  File: test19_26.jpg\n",
            "  File: test4_43.jpg\n",
            "  File: test21_14.jpg\n",
            "  File: test13_22.jpg\n",
            "  File: test15_15.jpg\n",
            "  File: test2_10.jpg\n",
            "  File: test26_30.jpg\n",
            "  File: test22_23.jpg\n",
            "  File: test21_20.jpg\n",
            "  File: test2_1.jpg\n",
            "  File: test4_37.jpg\n",
            "  File: test18_22.jpg\n",
            "  File: test30_8.jpg\n",
            "  File: test5_12.jpg\n",
            "  File: test_33.jpg\n",
            "  File: test12_13.jpg\n",
            "  File: test2_4.jpg\n",
            "  File: test27_13.jpg\n",
            "  File: test21_10.jpg\n",
            "  File: test5_14.jpg\n",
            "  File: test3_32.jpg\n",
            "  File: test2_16.jpg\n",
            "  File: test27_34.jpg\n",
            "  File: test21_18.jpg\n",
            "  File: test26_23.jpg\n",
            "  File: test25_24.jpg\n",
            "  File: test10_56.jpg\n",
            "  File: acc1 (7).jpg\n",
            "Directory: /root/.cache/kagglehub/datasets/ckay16/accident-detection-from-cctv-footage/versions/1/data/train\n",
            "  Subdirectory: Non Accident\n",
            "  Subdirectory: Accident\n",
            "Directory: /root/.cache/kagglehub/datasets/ckay16/accident-detection-from-cctv-footage/versions/1/data/train/Non Accident\n",
            "  File: test19_19.jpg\n",
            "  File: test25_6.jpg\n",
            "  File: 5_5.jpg\n",
            "  File: test20_10.jpg\n",
            "  File: test14_22.jpg\n",
            "  File: test29_30.jpg\n",
            "  File: test16_14.jpg\n",
            "  File: test26_6.jpg\n",
            "  File: test4_30.jpg\n",
            "  File: test24_6.jpg\n",
            "  File: test8_10.jpg\n",
            "  File: test17_3.jpg\n",
            "  File: test18_14.jpg\n",
            "  File: test15_28.jpg\n",
            "  File: test16_6.jpg\n",
            "  File: test15_26.jpg\n",
            "  File: test9_2.jpg\n",
            "  File: test18_11.jpg\n",
            "  File: test11_7.jpg\n",
            "  File: test7_35.jpg\n",
            "  File: test19_3.jpg\n",
            "  File: test25_14.jpg\n",
            "  File: test1_12.jpg\n",
            "  File: test7_45.jpg\n",
            "  File: test1_1.jpg\n",
            "  File: test7_5.jpg\n",
            "  File: test24_20.jpg\n",
            "  File: test25_16.jpg\n",
            "  File: test8_8.jpg\n",
            "  File: test30_2.jpg\n",
            "  File: test28_2.jpg\n",
            "  File: test16_11.jpg\n",
            "  File: test13_9.jpg\n",
            "  File: test9_24.jpg\n",
            "  File: test15_23.jpg\n",
            "  File: test16_2.jpg\n",
            "  File: test30_3.jpg\n",
            "  File: test4_26.jpg\n",
            "  File: test18_18.jpg\n",
            "  File: test_14.jpg\n",
            "  File: test_7.jpg\n",
            "  File: test13_30.jpg\n",
            "  File: test13_2.jpg\n",
            "  File: test4_24.jpg\n",
            "  File: test17_14.jpg\n",
            "  File: test3_41.jpg\n",
            "  File: test30_1.jpg\n",
            "  File: test4_55.jpg\n",
            "  File: test22_7.jpg\n",
            "  File: test19_13.jpg\n",
            "  File: test29_16.jpg\n",
            "  File: test24_15.jpg\n",
            "  File: test_23.jpg\n",
            "  File: test19_7.jpg\n",
            "  File: test24_17.jpg\n",
            "  File: test4_25.jpg\n",
            "  File: test19_9.jpg\n",
            "  File: test18_9.jpg\n",
            "  File: test27_4.jpg\n",
            "  File: test11_47.jpg\n",
            "  File: test15_31.jpg\n",
            "  File: test24_4.jpg\n",
            "  File: test24_19.jpg\n",
            "  File: test13_4.jpg\n",
            "  File: test29_21.jpg\n",
            "  File: test3_17.jpg\n",
            "  File: test1_5.jpg\n",
            "  File: 5_27.jpg\n",
            "  File: test7_52.jpg\n",
            "  File: test26_9.jpg\n",
            "  File: test22_9.jpg\n",
            "  File: test8_2.jpg\n",
            "  File: test8_7.jpg\n",
            "  File: test25_18.jpg\n",
            "  File: test4_51.jpg\n",
            "  File: test22_18.jpg\n",
            "  File: test9_10.jpg\n",
            "  File: test27_2.jpg\n",
            "  File: test29_5.jpg\n",
            "  File: test9_1.jpg\n",
            "  File: 5_13.jpg\n",
            "  File: test3_14.jpg\n",
            "  File: test29_29.jpg\n",
            "  File: test3_24.jpg\n",
            "  File: test1_6.jpg\n",
            "  File: test7_24.jpg\n",
            "  File: test24_18.jpg\n",
            "  File: test12_10.jpg\n",
            "  File: test17_4.jpg\n",
            "  File: test18_2.jpg\n",
            "  File: test3_36.jpg\n",
            "  File: test4_29.jpg\n",
            "  File: test8_4.jpg\n",
            "  File: test24_7.jpg\n",
            "  File: test27_60.jpg\n",
            "  File: test22_12.jpg\n",
            "  File: test1_2.jpg\n",
            "  File: test3_15.jpg\n",
            "  File: test1_3.jpg\n",
            "  File: test_25.jpg\n",
            "  File: test23_6.jpg\n",
            "  File: test19_4.jpg\n",
            "  File: test20_11.jpg\n",
            "  File: test11_57.jpg\n",
            "  File: test18_17.jpg\n",
            "  File: test14_24.jpg\n",
            "  File: test1_15.jpg\n",
            "  File: test13_26.jpg\n",
            "  File: test7_7.jpg\n",
            "  File: test7_36.jpg\n",
            "  File: test_16.jpg\n",
            "  File: test11_13.jpg\n",
            "  File: test3_13.jpg\n",
            "  File: test24_10.jpg\n",
            "  File: test_24.jpg\n",
            "  File: test4_8.jpg\n",
            "  File: test19_14.jpg\n",
            "  File: test7_48.jpg\n",
            "  File: test24_2.jpg\n",
            "  File: test17_30.jpg\n",
            "  File: test25_9.jpg\n",
            "  File: 5_15.jpg\n",
            "  File: test17_10.jpg\n",
            "  File: test7_46.jpg\n",
            "  File: test27_3.jpg\n",
            "  File: test19_6.jpg\n",
            "  File: test20_14.jpg\n",
            "  File: test19_11.jpg\n",
            "  File: test19_18.jpg\n",
            "  File: test24_11.jpg\n",
            "  File: test14_25.jpg\n",
            "  File: test19_5.jpg\n",
            "  File: test3_22.jpg\n",
            "  File: test15_1.jpg\n",
            "  File: test10_4.jpg\n",
            "  File: test11_5.jpg\n",
            "  File: test16_17.jpg\n",
            "  File: test14_8.jpg\n",
            "  File: test19_10.jpg\n",
            "  File: test19_20.jpg\n",
            "  File: test3_4.jpg\n",
            "  File: test20_3.jpg\n",
            "  File: test26_10.jpg\n",
            "  File: test23_8.jpg\n",
            "  File: test11_42.jpg\n",
            "  File: test23_7.jpg\n",
            "  File: test_12.jpg\n",
            "  File: test16_5.jpg\n",
            "  File: test29_1.jpg\n",
            "  File: test20_6.jpg\n",
            "  File: test7_18.jpg\n",
            "  File: test_1.jpg\n",
            "  File: test9_9.jpg\n",
            "  File: test11_58.jpg\n",
            "  File: test3_23.jpg\n",
            "  File: test9_23.jpg\n",
            "  File: test16_18.jpg\n",
            "  File: test22_5.jpg\n",
            "  File: test16_16.jpg\n",
            "  File: test9_16.jpg\n",
            "  File: test4_15.jpg\n",
            "  File: test28_11.jpg\n",
            "  File: test18_8.jpg\n",
            "  File: test_18.jpg\n",
            "  File: 5_9.jpg\n",
            "  File: test3_37.jpg\n",
            "  File: test3_19.jpg\n",
            "  File: test3_20.jpg\n",
            "  File: test4_27.jpg\n",
            "  File: test7_50.jpg\n",
            "  File: test17_13.jpg\n",
            "  File: test9_5.jpg\n",
            "  File: test7_6.jpg\n",
            "  File: test7_51.jpg\n",
            "  File: test14_6.jpg\n",
            "  File: test1_13.jpg\n",
            "  File: test17_7.jpg\n",
            "  File: test26_1.jpg\n",
            "  File: test22_14.jpg\n",
            "  File: test16_9.jpg\n",
            "  File: test11_39.jpg\n",
            "  File: test9_3.jpg\n",
            "  File: test25_4.jpg\n",
            "  File: test11_48.jpg\n",
            "  File: test7_17.jpg\n",
            "  File: 5_25.jpg\n",
            "  File: test20_2.jpg\n",
            "  File: test10_8.jpg\n",
            "  File: test7_19.jpg\n",
            "  File: test19_17.jpg\n",
            "  File: test24_14.jpg\n",
            "  File: 5_10.jpg\n",
            "  File: test4_17.jpg\n",
            "  File: test24_3.jpg\n",
            "  File: test10_7.jpg\n",
            "  File: test20_1.jpg\n",
            "  File: test9_18.jpg\n",
            "  File: test29_31.jpg\n",
            "  File: test11_11.jpg\n",
            "  File: test7_23.jpg\n",
            "  File: test_5.jpg\n",
            "  File: test_4.jpg\n",
            "  File: test4_13.jpg\n",
            "  File: test8_21.jpg\n",
            "  File: test23_2.jpg\n",
            "  File: 5_7.jpg\n",
            "  File: test23_3.jpg\n",
            "  File: test30_6.jpg\n",
            "  File: test13_5.jpg\n",
            "  File: test22_6.jpg\n",
            "  File: test_13.jpg\n",
            "  File: test11_8.jpg\n",
            "  File: test18_16.jpg\n",
            "  File: test8_20.jpg\n",
            "  File: test_6.jpg\n",
            "  File: test3_39.jpg\n",
            "  File: test23_1.jpg\n",
            "  File: test28_8.jpg\n",
            "  File: test25_7.jpg\n",
            "  File: test13_28.jpg\n",
            "  File: test19_8.jpg\n",
            "  File: test9_17.jpg\n",
            "  File: test4_12.jpg\n",
            "  File: test4_22.jpg\n",
            "  File: test9_14.jpg\n",
            "  File: test7_58.jpg\n",
            "  File: test7_34.jpg\n",
            "  File: test27_59.jpg\n",
            "  File: test22_8.jpg\n",
            "  File: test17_25.jpg\n",
            "  File: test9_13.jpg\n",
            "  File: test17_9.jpg\n",
            "  File: test11_59.jpg\n",
            "  File: test14_7.jpg\n",
            "  File: test1_14.jpg\n",
            "  File: test14_23.jpg\n",
            "  File: test4_3.jpg\n",
            "  File: test20_4.jpg\n",
            "  File: test17_8.jpg\n",
            "  File: test_21.jpg\n",
            "  File: test29_20.jpg\n",
            "  File: test_15.jpg\n",
            "  File: test11_43.jpg\n",
            "  File: test16_10.jpg\n",
            "  File: test11_50.jpg\n",
            "  File: test23_4.jpg\n",
            "  File: test28_12.jpg\n",
            "  File: test18_1.jpg\n",
            "  File: test13_8.jpg\n",
            "  File: test11_3.jpg\n",
            "  File: test25_3.jpg\n",
            "  File: test16_13.jpg\n",
            "  File: test22_13.jpg\n",
            "  File: test19_12.jpg\n",
            "  File: test11_45.jpg\n",
            "  File: test13_6.jpg\n",
            "  File: test9_19.jpg\n",
            "  File: test17_27.jpg\n",
            "  File: test16_3.jpg\n",
            "  File: test_8.jpg\n",
            "  File: test1_11.jpg\n",
            "  File: test18_3.jpg\n",
            "  File: test_46.jpg\n",
            "  File: test4_58.jpg\n",
            "  File: test7_21.jpg\n",
            "  File: test9_21.jpg\n",
            "  File: test17_11.jpg\n",
            "  File: test7_59.jpg\n",
            "  File: test23_5.jpg\n",
            "  File: test7_14.jpg\n",
            "  File: test4_23.jpg\n",
            "  File: test_20.jpg\n",
            "  File: test9_11.jpg\n",
            "  File: test30_4.jpg\n",
            "  File: test29_2.jpg\n",
            "  File: test4_7.jpg\n",
            "  File: 5_29.jpg\n",
            "  File: test15_24.jpg\n",
            "  File: test25_8.jpg\n",
            "  File: test15_30.jpg\n",
            "  File: test17_24.jpg\n",
            "  File: test7_16.jpg\n",
            "  File: test29_24.jpg\n",
            "  File: test15_17.jpg\n",
            "  File: test11_41.jpg\n",
            "  File: test4_1.jpg\n",
            "  File: test4_59.jpg\n",
            "  File: test25_15.jpg\n",
            "  File: 5_17.jpg\n",
            "  File: test17_5.jpg\n",
            "  File: test11_44.jpg\n",
            "  File: 5_30.jpg\n",
            "  File: test4_20.jpg\n",
            "  File: test11_1.jpg\n",
            "  File: test17_28.jpg\n",
            "  File: test16_8.jpg\n",
            "  File: test3_42.jpg\n",
            "  File: test7_33.jpg\n",
            "  File: test17_23.jpg\n",
            "  File: test12_2.jpg\n",
            "  File: test13_7.jpg\n",
            "  File: test3_16.jpg\n",
            "  File: test7_15.jpg\n",
            "  File: test7_9.jpg\n",
            "  File: test24_16.jpg\n",
            "  File: test10_2.jpg\n",
            "  File: 5_14.jpg\n",
            "  File: test7_2.jpg\n",
            "  File: test13_29.jpg\n",
            "  File: test1_7.jpg\n",
            "  File: test17_2.jpg\n",
            "  File: test7_13.jpg\n",
            "  File: test15_19.jpg\n",
            "  File: test15_25.jpg\n",
            "  File: test11_9.jpg\n",
            "  File: test15_22.jpg\n",
            "  File: test13_31.jpg\n",
            "  File: test12_8.jpg\n",
            "  File: test11_46.jpg\n",
            "  File: test13_3.jpg\n",
            "  File: test12_9.jpg\n",
            "  File: test25_2.jpg\n",
            "  File: test17_1.jpg\n",
            "  File: test18_7.jpg\n",
            "  File: test26_7.jpg\n",
            "  File: test7_20.jpg\n",
            "  File: test20_8.jpg\n",
            "  File: test14_4.jpg\n",
            "  File: test25_11.jpg\n",
            "  File: test16_7.jpg\n",
            "  File: test7_4.jpg\n",
            "  File: test24_9.jpg\n",
            "  File: test7_12.jpg\n",
            "  File: test7_11.jpg\n",
            "  File: test29_23.jpg\n",
            "  File: test26_3.jpg\n",
            "  File: test7_60.jpg\n",
            "  File: test22_15.jpg\n",
            "  File: test11_10.jpg\n",
            "  File: test12_11.jpg\n",
            "  File: test19_21.jpg\n",
            "  File: test_9.jpg\n",
            "  File: test_10.jpg\n",
            "  File: test7_49.jpg\n",
            "  File: test11_40.jpg\n",
            "  File: test16_1.jpg\n",
            "  File: test19_1.jpg\n",
            "  File: test22_16.jpg\n",
            "  File: test18_10.jpg\n",
            "  File: test11_15.jpg\n",
            "  File: 5_28.jpg\n",
            "  File: test16_15.jpg\n",
            "  File: test7_42.jpg\n",
            "  File: test18_4.jpg\n",
            "  File: test22_11.jpg\n",
            "  File: 5_8.jpg\n",
            "  File: test3_38.jpg\n",
            "  File: test20_12.jpg\n",
            "  File: test4_52.jpg\n",
            "  File: test9_4.jpg\n",
            "  File: test3_34.jpg\n",
            "  File: test13_27.jpg\n",
            "  File: test8_1.jpg\n",
            "  File: test20_5.jpg\n",
            "  File: test_19.jpg\n",
            "  File: test7_47.jpg\n",
            "  File: test18_20.jpg\n",
            "  File: test19_16.jpg\n",
            "  File: test10_6.jpg\n",
            "  File: 5_11.jpg\n",
            "  File: test8_19.jpg\n",
            "  File: test8_5.jpg\n",
            "  File: test26_4.jpg\n",
            "  File: test1_10.jpg\n",
            "  File: 5_6.jpg\n",
            "  File: test11_61.jpg\n",
            "  File: test9_7.jpg\n",
            "  File: 5_12.jpg\n",
            "  File: test_11.jpg\n",
            "  File: test8_17.jpg\n",
            "  File: test18_13.jpg\n",
            "  File: test28_7.jpg\n",
            "  File: test4_18.jpg\n",
            "  File: test_3.jpg\n",
            "  File: test8_18.jpg\n",
            "  File: test9_22.jpg\n",
            "  File: test4_16.jpg\n",
            "  File: test11_56.jpg\n",
            "  File: test7_3.jpg\n",
            "  File: test14_1.jpg\n",
            "  File: test27_6.jpg\n",
            "  File: test25_12.jpg\n",
            "  File: test18_19.jpg\n",
            "  File: test11_60.jpg\n",
            "  File: test8_6.jpg\n",
            "  File: test29_4.jpg\n",
            "  File: test24_5.jpg\n",
            "  File: test11_2.jpg\n",
            "  File: test7_44.jpg\n",
            "  File: test7_40.jpg\n",
            "  File: test25_13.jpg\n",
            "  File: test7_41.jpg\n",
            "  File: test27_1.jpg\n",
            "  File: test4_56.jpg\n",
            "  File: test11_4.jpg\n",
            "  File: test28_9.jpg\n",
            "  File: test1_4.jpg\n",
            "  File: test20_9.jpg\n",
            "  File: test20_13.jpg\n",
            "  File: test3_35.jpg\n",
            "  File: test7_8.jpg\n",
            "  File: test11_38.jpg\n",
            "  File: test19_2.jpg\n",
            "  File: test17_26.jpg\n",
            "  File: test22_10.jpg\n",
            "  File: 5_24.jpg\n",
            "  File: test15_21.jpg\n",
            "  File: test24_12.jpg\n",
            "  File: test4_54.jpg\n",
            "  File: test11_16.jpg\n",
            "  File: test29_17.jpg\n",
            "  File: test17_6.jpg\n",
            "Directory: /root/.cache/kagglehub/datasets/ckay16/accident-detection-from-cctv-footage/versions/1/data/train/Accident\n",
            "  File: test_39.jpg\n",
            "  File: test26_13.jpg\n",
            "  File: test13_23.jpg\n",
            "  File: test15_16.jpg\n",
            "  File: test26_14.jpg\n",
            "  File: test27_22.jpg\n",
            "  File: test24_33.jpg\n",
            "  File: test15_3.jpg\n",
            "  File: test12_17.jpg\n",
            "  File: test13_15.jpg\n",
            "  File: acc1 (14).jpg\n",
            "  File: test27_10.jpg\n",
            "  File: test10_17.jpg\n",
            "  File: test15_12.jpg\n",
            "  File: test26_17.jpg\n",
            "  File: test11_28.jpg\n",
            "  File: test24_38.jpg\n",
            "  File: test4_39.jpg\n",
            "  File: test16_19.jpg\n",
            "  File: test24_37.jpg\n",
            "  File: test21_19.jpg\n",
            "  File: test14_10.jpg\n",
            "  File: test13_13.jpg\n",
            "  File: test24_22.jpg\n",
            "  File: test11_34.jpg\n",
            "  File: test16_26.jpg\n",
            "  File: test5_18.jpg\n",
            "  File: test10_11.jpg\n",
            "  File: test11_35.jpg\n",
            "  File: test1_17.jpg\n",
            "  File: test16_30.jpg\n",
            "  File: test30_10.jpg\n",
            "  File: test22_20.jpg\n",
            "  File: test8_12.jpg\n",
            "  File: test19_24.jpg\n",
            "  File: test17_18.jpg\n",
            "  File: test_44.jpg\n",
            "  File: test1_21.jpg\n",
            "  File: test16_27.jpg\n",
            "  File: acc1 (15).jpg\n",
            "  File: test11_33.jpg\n",
            "  File: test10_29.jpg\n",
            "  File: test23_22.jpg\n",
            "  File: test2_12.jpg\n",
            "  File: test28_15.jpg\n",
            "  File: test5_17.jpg\n",
            "  File: test10_18.jpg\n",
            "  File: acc1 (1).jpg\n",
            "  File: test_43.jpg\n",
            "  File: test24_43.jpg\n",
            "  File: test27_19.jpg\n",
            "  File: test2_8.jpg\n",
            "  File: test10_41.jpg\n",
            "  File: test2_25.jpg\n",
            "  File: test17_16.jpg\n",
            "  File: test24_27.jpg\n",
            "  File: test4_48.jpg\n",
            "  File: test23_20.jpg\n",
            "  File: test5_19.jpg\n",
            "  File: test_34.jpg\n",
            "  File: test2_14.jpg\n",
            "  File: test4_35.jpg\n",
            "  File: test10_43.jpg\n",
            "  File: test19_25.jpg\n",
            "  File: test23_29.jpg\n",
            "  File: test5_11.jpg\n",
            "  File: test12_14.jpg\n",
            "  File: test11_22.jpg\n",
            "  File: test26_20.jpg\n",
            "  File: test15_11.jpg\n",
            "  File: test11_27.jpg\n",
            "  File: test24_42.jpg\n",
            "  File: test23_9.jpg\n",
            "  File: test13_25.jpg\n",
            "  File: test25_25.jpg\n",
            "  File: test14_9.jpg\n",
            "  File: test3_27.jpg\n",
            "  File: test24_28.jpg\n",
            "  File: test4_34.jpg\n",
            "  File: test20_15.jpg\n",
            "  File: test19_28.jpg\n",
            "  File: test21_13.jpg\n",
            "  File: test18_21.jpg\n",
            "  File: test10_32.jpg\n",
            "  File: test28_16.jpg\n",
            "  File: test1_25.jpg\n",
            "  File: test10_42.jpg\n",
            "  File: test29_8.jpg\n",
            "  File: test_38.jpg\n",
            "  File: test23_21.jpg\n",
            "  File: test11_19.jpg\n",
            "  File: test11_24.jpg\n",
            "  File: test17_17.jpg\n",
            "  File: test25_30.jpg\n",
            "  File: test16_23.jpg\n",
            "  File: test26_28.jpg\n",
            "  File: test7_31.jpg\n",
            "  File: test19_23.jpg\n",
            "  File: test17_20.jpg\n",
            "  File: test18_23.jpg\n",
            "  File: test10_14.jpg\n",
            "  File: test17_22.jpg\n",
            "  File: test15_8.jpg\n",
            "  File: test27_20.jpg\n",
            "  File: test23_23.jpg\n",
            "  File: test11_36.jpg\n",
            "  File: test7_26.jpg\n",
            "  File: test12_18.jpg\n",
            "  File: test23_24.jpg\n",
            "  File: test23_17.jpg\n",
            "  File: test14_12.jpg\n",
            "  File: test2_11.jpg\n",
            "  File: test11_37.jpg\n",
            "  File: test15_4.jpg\n",
            "  File: test23_25.jpg\n",
            "  File: test17_19.jpg\n",
            "  File: test19_31.jpg\n",
            "  File: test22_22.jpg\n",
            "  File: test27_32.jpg\n",
            "  File: test10_45.jpg\n",
            "  File: test23_14.jpg\n",
            "  File: test29_9.jpg\n",
            "  File: test26_29.jpg\n",
            "  File: test7_28.jpg\n",
            "  File: test13_14.jpg\n",
            "  File: test10_59.jpg\n",
            "  File: test11_31.jpg\n",
            "  File: test23_28.jpg\n",
            "  File: test22_24.jpg\n",
            "  File: test2_5.jpg\n",
            "  File: test23_31.jpg\n",
            "  File: test26_18.jpg\n",
            "  File: test24_25.jpg\n",
            "  File: test_27.jpg\n",
            "  File: test27_16.jpg\n",
            "  File: test20_19.jpg\n",
            "  File: test13_17.jpg\n",
            "  File: test13_10.jpg\n",
            "  File: test27_11.jpg\n",
            "  File: test26_25.jpg\n",
            "  File: acc1 (2).jpg\n",
            "  File: test10_60.jpg\n",
            "  File: test14_15.jpg\n",
            "  File: test14_14.jpg\n",
            "  File: test1_23.jpg\n",
            "  File: test10_21.jpg\n",
            "  File: test28_24.jpg\n",
            "  File: test5_13.jpg\n",
            "  File: test13_19.jpg\n",
            "  File: test_40.jpg\n",
            "  File: test_31.jpg\n",
            "  File: test26_24.jpg\n",
            "  File: test27_31.jpg\n",
            "  File: test22_29.jpg\n",
            "  File: test23_11.jpg\n",
            "  File: test13_24.jpg\n",
            "  File: test4_38.jpg\n",
            "  File: test22_25.jpg\n",
            "  File: test24_35.jpg\n",
            "  File: test10_49.jpg\n",
            "  File: test11_23.jpg\n",
            "  File: test13_11.jpg\n",
            "  File: test3_33.jpg\n",
            "  File: test8_13.jpg\n",
            "  File: test27_24.jpg\n",
            "  File: test25_29.jpg\n",
            "  File: test21_11.jpg\n",
            "  File: test14_16.jpg\n",
            "  File: test4_32.jpg\n",
            "  File: test26_19.jpg\n",
            "  File: test23_26.jpg\n",
            "  File: test10_12.jpg\n",
            "  File: test23_10.jpg\n",
            "  File: test10_55.jpg\n",
            "  File: test11_29.jpg\n",
            "  File: test23_27.jpg\n",
            "  File: test16_22.jpg\n",
            "  File: test18_26.jpg\n",
            "  File: test27_12.jpg\n",
            "  File: test10_31.jpg\n",
            "  File: test11_32.jpg\n",
            "  File: test30_20.jpg\n",
            "  File: test10_20.jpg\n",
            "  File: test3_30.jpg\n",
            "  File: test15_7.jpg\n",
            "  File: test28_27.jpg\n",
            "  File: test2_18.jpg\n",
            "  File: test13_12.jpg\n",
            "  File: test28_19.jpg\n",
            "  File: acc1 (5).jpg\n",
            "  File: test11_25.jpg\n",
            "  File: test21_15.jpg\n",
            "  File: test4_36.jpg\n",
            "  File: test8_14.jpg\n",
            "  File: test12_15.jpg\n",
            "  File: test4_33.jpg\n",
            "  File: test10_25.jpg\n",
            "  File: test30_17.jpg\n",
            "  File: test29_13.jpg\n",
            "  File: test24_21.jpg\n",
            "  File: test26_31.jpg\n",
            "  File: test12_19.jpg\n",
            "  File: test11_21.jpg\n",
            "  File: test14_17.jpg\n",
            "  File: test10_48.jpg\n",
            "  File: test11_17.jpg\n",
            "  File: test27_36.jpg\n",
            "  File: test22_21.jpg\n",
            "  File: test4_46.jpg\n",
            "  File: test29_10.jpg\n",
            "  File: test1_29.jpg\n",
            "  File: test22_28.jpg\n",
            "  File: test4_45.jpg\n",
            "  File: test17_15.jpg\n",
            "  File: test24_40.jpg\n",
            "  File: test8_15.jpg\n",
            "  File: test10_58.jpg\n",
            "  File: test28_30.jpg\n",
            "  File: test22_26.jpg\n",
            "  File: test15_10.jpg\n",
            "  File: test24_23.jpg\n",
            "  File: test23_30.jpg\n",
            "  File: test19_29.jpg\n",
            "  File: test4_41.jpg\n",
            "  File: test11_30.jpg\n",
            "  File: test21_26.jpg\n",
            "  File: test24_29.jpg\n",
            "  File: test22_31.jpg\n",
            "  File: test7_27.jpg\n",
            "  File: test24_32.jpg\n",
            "  File: test28_17.jpg\n",
            "  File: test27_29.jpg\n",
            "  File: test10_13.jpg\n",
            "  File: test27_28.jpg\n",
            "  File: test11_26.jpg\n",
            "  File: test27_8.jpg\n",
            "  File: test24_31.jpg\n",
            "  File: test10_52.jpg\n",
            "  File: test24_36.jpg\n",
            "  File: test28_21.jpg\n",
            "  File: test18_27.jpg\n",
            "  File: test21_25.jpg\n",
            "  File: test25_23.jpg\n",
            "  File: test21_12.jpg\n",
            "  File: acc1 (3).jpg\n",
            "  File: test20_16.jpg\n",
            "  File: test24_34.jpg\n",
            "  File: test15_14.jpg\n",
            "  File: test23_13.jpg\n",
            "  File: test25_26.jpg\n",
            "  File: test28_28.jpg\n",
            "  File: test21_21.jpg\n",
            "  File: test16_29.jpg\n",
            "  File: test4_49.jpg\n",
            "  File: test21_23.jpg\n",
            "  File: test10_51.jpg\n",
            "  File: test18_30.jpg\n",
            "  File: test30_12.jpg\n",
            "  File: test2_19.jpg\n",
            "  File: test10_38.jpg\n",
            "  File: test1_30.jpg\n",
            "  File: test25_27.jpg\n",
            "  File: test_28.jpg\n",
            "  File: test22_30.jpg\n",
            "  File: test30_18.jpg\n",
            "  File: test2_2.jpg\n",
            "  File: test26_27.jpg\n",
            "  File: test10_9.jpg\n",
            "  File: test2_22.jpg\n",
            "  File: test14_20.jpg\n",
            "  File: test28_25.jpg\n",
            "  File: test2_21.jpg\n",
            "  File: test21_16.jpg\n",
            "  File: test14_21.jpg\n",
            "  File: test2_15.jpg\n",
            "  File: test17_21.jpg\n",
            "  File: test1_28.jpg\n",
            "  File: test16_21.jpg\n",
            "  File: test2_13.jpg\n",
            "  File: test27_30.jpg\n",
            "  File: test2_6.jpg\n",
            "  File: test26_16.jpg\n",
            "  File: test10_30.jpg\n",
            "  File: test10_50.jpg\n",
            "  File: test1_16.jpg\n",
            "  File: test11_18.jpg\n",
            "  File: test2_20.jpg\n",
            "  File: test24_26.jpg\n",
            "  File: test10_15.jpg\n",
            "  File: test18_28.jpg\n",
            "  File: test24_39.jpg\n",
            "  File: test30_16.jpg\n",
            "  File: test4_50.jpg\n",
            "  File: test_29.jpg\n",
            "  File: test21_27.jpg\n",
            "  File: test16_24.jpg\n",
            "  File: test15_6.jpg\n",
            "  File: test5_20.jpg\n",
            "  File: test11_20.jpg\n",
            "  File: test2_9.jpg\n",
            "  File: test15_5.jpg\n",
            "  File: test21_17.jpg\n",
            "  File: test20_17.jpg\n",
            "  File: test3_29.jpg\n",
            "  File: test13_16.jpg\n",
            "  File: test29_11.jpg\n",
            "  File: test5_15.jpg\n",
            "  File: test10_53.jpg\n",
            "  File: test10_28.jpg\n",
            "  File: test19_22.jpg\n",
            "  File: test7_30.jpg\n",
            "  File: test30_11.jpg\n",
            "  File: test14_18.jpg\n",
            "  File: test2_24.jpg\n",
            "  File: test27_15.jpg\n",
            "  File: test27_27.jpg\n",
            "  File: test15_2.jpg\n",
            "  File: test7_29.jpg\n",
            "  File: test20_18.jpg\n",
            "  File: test24_24.jpg\n",
            "  File: test10_39.jpg\n",
            "  File: test4_44.jpg\n",
            "  File: test5_16.jpg\n",
            "  File: test_42.jpg\n",
            "  File: test1_22.jpg\n",
            "  File: test4_31.jpg\n",
            "  File: test10_57.jpg\n",
            "  File: test10_10.jpg\n",
            "  File: test16_20.jpg\n",
            "  File: test13_21.jpg\n",
            "  File: test3_28.jpg\n",
            "  File: test8_16.jpg\n",
            "  File: test10_26.jpg\n",
            "  File: test3_31.jpg\n",
            "  File: test26_21.jpg\n",
            "  File: test2_17.jpg\n",
            "  File: test10_35.jpg\n",
            "  File: test19_30.jpg\n",
            "  File: test25_28.jpg\n",
            "  File: test27_23.jpg\n",
            "  File: test10_47.jpg\n",
            "  File: test27_7.jpg\n",
            "  File: test10_19.jpg\n",
            "  File: test14_13.jpg\n",
            "  File: test27_14.jpg\n",
            "  File: test19_27.jpg\n",
            "  File: test5_10.jpg\n",
            "  File: test1_19.jpg\n",
            "  File: test10_44.jpg\n",
            "  File: test15_13.jpg\n",
            "  File: test23_16.jpg\n",
            "  File: test30_19.jpg\n",
            "  File: test10_37.jpg\n",
            "  File: test_32.jpg\n",
            "  File: test29_14.jpg\n",
            "  File: test10_40.jpg\n",
            "  File: test21_24.jpg\n",
            "  File: test10_24.jpg\n",
            "  File: acc1 (13).jpg\n",
            "  File: test27_33.jpg\n",
            "  File: test18_29.jpg\n",
            "  File: test12_12.jpg\n",
            "  File: test16_25.jpg\n",
            "  File: test29_12.jpg\n",
            "  File: test28_22.jpg\n",
            "  File: test23_12.jpg\n",
            "  File: test_36.jpg\n",
            "  File: test10_16.jpg\n",
            "  File: test13_1.jpg\n"
          ]
        }
      ],
      "source": [
        "import os\n",
        "\n",
        "dataset_path = \"/root/.cache/kagglehub/datasets/ckay16/accident-detection-from-cctv-footage/versions/1\"\n",
        "\n",
        "for root, dirs, files in os.walk(dataset_path):\n",
        "    print(f\"Directory: {root}\")\n",
        "    for name in dirs:\n",
        "        print(f\"  Subdirectory: {name}\")\n",
        "    for name in files:\n",
        "        print(f\"  File: {name}\")"
      ]
    },
    {
      "cell_type": "code",
      "execution_count": null,
      "metadata": {
        "colab": {
          "base_uri": "https://localhost:8080/"
        },
        "id": "7fIBULwbyiPN",
        "outputId": "d32bac63-a6ef-4d78-d95c-df89105c0a3f"
      },
      "outputs": [
        {
          "name": "stdout",
          "output_type": "stream",
          "text": [
            "Found 791 files belonging to 2 classes.\n",
            "Found 98 files belonging to 2 classes.\n",
            "Found 100 files belonging to 2 classes.\n"
          ]
        }
      ],
      "source": [
        "import tensorflow as tf\n",
        "\n",
        "train_dir = \"/root/.cache/kagglehub/datasets/ckay16/accident-detection-from-cctv-footage/versions/1/data/train\"\n",
        "val_dir = \"/root/.cache/kagglehub/datasets/ckay16/accident-detection-from-cctv-footage/versions/1/data/val\"\n",
        "test_dir = \"/root/.cache/kagglehub/datasets/ckay16/accident-detection-from-cctv-footage/versions/1/data/test\"\n",
        "\n",
        "# Load training dataset\n",
        "train_ds = tf.keras.utils.image_dataset_from_directory(\n",
        "    train_dir,\n",
        "    image_size=(224, 224),  # Resize images to this size\n",
        "    batch_size=32,         # Batch size\n",
        "    label_mode='binary'  # Or 'binary' depending on the use case\n",
        ")\n",
        "\n",
        "# Load validation dataset\n",
        "val_ds = tf.keras.utils.image_dataset_from_directory(\n",
        "    val_dir,\n",
        "    image_size=(224, 224),\n",
        "    batch_size=32,\n",
        "    label_mode='binary'\n",
        ")\n",
        "\n",
        "# Load test dataset\n",
        "test_ds = tf.keras.utils.image_dataset_from_directory(\n",
        "    test_dir,\n",
        "    image_size=(224, 224),\n",
        "    batch_size=32,\n",
        "    label_mode='binary'\n",
        ")\n"
      ]
    },
    {
      "cell_type": "code",
      "execution_count": null,
      "metadata": {
        "colab": {
          "base_uri": "https://localhost:8080/",
          "height": 428
        },
        "id": "mGJmchu4y-13",
        "outputId": "93684d47-4216-419c-a6da-7ead429aedc2"
      },
      "outputs": [
        {
          "data": {
            "image/png": "[encoded data removed]",
            "text/plain": [
              "<Figure size 640x480 with 9 Axes>"
            ]
          },
          "metadata": {},
          "output_type": "display_data"
        }
      ],
      "source": [
        "import matplotlib.pyplot as plt\n",
        "\n",
        "class_names = train_ds.class_names\n",
        "\n",
        "for images, labels in train_ds.take(1):\n",
        "    for i in range(9):\n",
        "        plt.subplot(3, 3, i + 1)\n",
        "        plt.imshow(images[i].numpy().astype(\"uint8\"))\n",
        "        plt.title(class_names[tf.argmax(labels[i])])\n",
        "        plt.axis(\"off\")\n",
        "    plt.show()"
      ]
    },
    {
      "cell_type": "code",
      "execution_count": null,
      "metadata": {
        "id": "1tmBEDnTzFiq"
      },
      "outputs": [],
      "source": [
        "normalization_layer = tf.keras.layers.Rescaling(1.0 / 255)\n",
        "train_ds = train_ds.map(lambda x, y: (normalization_layer(x), y))\n",
        "val_ds = val_ds.map(lambda x, y: (normalization_layer(x), y))\n",
        "test_ds = test_ds.map(lambda x, y: (normalization_layer(x), y))"
      ]
    },
    {
      "cell_type": "code",
      "execution_count": null,
      "metadata": {
        "colab": {
          "base_uri": "https://localhost:8080/",
          "height": 449
        },
        "id": "B1xXgLLP1IH2",
        "outputId": "ce16557f-0174-43d7-e9be-ba5906434fbc"
      },
      "outputs": [
        {
          "data": {
            "text/html": [
              "<pre style=\"white-space:pre;overflow-x:auto;line-height:normal;font-family:Menlo,'DejaVu Sans Mono',consolas,'Courier New',monospace\"><span style=\"font-weight: bold\">Model: \"sequential_1\"</span>\n",
              "</pre>\n"
            ],
            "text/plain": [
              "\u001b[1mModel: \"sequential_1\"\u001b[0m\n"
            ]
          },
          "metadata": {},
          "output_type": "display_data"
        },
        {
          "data": {
            "text/html": [
              "<pre style=\"white-space:pre;overflow-x:auto;line-height:normal;font-family:Menlo,'DejaVu Sans Mono',consolas,'Courier New',monospace\">┏━━━━━━━━━━━━━━━━━━━━━━━━━━━━━━━━━━━━━━┳━━━━━━━━━━━━━━━━━━━━━━━━━━━━━┳━━━━━━━━━━━━━━━━━┓\n",
              "┃<span style=\"font-weight: bold\"> Layer (type)                         </span>┃<span style=\"font-weight: bold\"> Output Shape                </span>┃<span style=\"font-weight: bold\">         Param # </span>┃\n",
              "┡━━━━━━━━━━━━━━━━━━━━━━━━━━━━━━━━━━━━━━╇━━━━━━━━━━━━━━━━━━━━━━━━━━━━━╇━━━━━━━━━━━━━━━━━┩\n",
              "│ conv2d_3 (<span style=\"color: #0087ff; text-decoration-color: #0087ff\">Conv2D</span>)                    │ (<span style=\"color: #00d7ff; text-decoration-color: #00d7ff\">None</span>, <span style=\"color: #00af00; text-decoration-color: #00af00\">222</span>, <span style=\"color: #00af00; text-decoration-color: #00af00\">222</span>, <span style=\"color: #00af00; text-decoration-color: #00af00\">32</span>)        │             <span style=\"color: #00af00; text-decoration-color: #00af00\">896</span> │\n",
              "├──────────────────────────────────────┼─────────────────────────────┼─────────────────┤\n",
              "│ max_pooling2d_3 (<span style=\"color: #0087ff; text-decoration-color: #0087ff\">MaxPooling2D</span>)       │ (<span style=\"color: #00d7ff; text-decoration-color: #00d7ff\">None</span>, <span style=\"color: #00af00; text-decoration-color: #00af00\">111</span>, <span style=\"color: #00af00; text-decoration-color: #00af00\">111</span>, <span style=\"color: #00af00; text-decoration-color: #00af00\">32</span>)        │               <span style=\"color: #00af00; text-decoration-color: #00af00\">0</span> │\n",
              "├──────────────────────────────────────┼─────────────────────────────┼─────────────────┤\n",
              "│ conv2d_4 (<span style=\"color: #0087ff; text-decoration-color: #0087ff\">Conv2D</span>)                    │ (<span style=\"color: #00d7ff; text-decoration-color: #00d7ff\">None</span>, <span style=\"color: #00af00; text-decoration-color: #00af00\">109</span>, <span style=\"color: #00af00; text-decoration-color: #00af00\">109</span>, <span style=\"color: #00af00; text-decoration-color: #00af00\">64</span>)        │          <span style=\"color: #00af00; text-decoration-color: #00af00\">18,496</span> │\n",
              "├──────────────────────────────────────┼─────────────────────────────┼─────────────────┤\n",
              "│ max_pooling2d_4 (<span style=\"color: #0087ff; text-decoration-color: #0087ff\">MaxPooling2D</span>)       │ (<span style=\"color: #00d7ff; text-decoration-color: #00d7ff\">None</span>, <span style=\"color: #00af00; text-decoration-color: #00af00\">54</span>, <span style=\"color: #00af00; text-decoration-color: #00af00\">54</span>, <span style=\"color: #00af00; text-decoration-color: #00af00\">64</span>)          │               <span style=\"color: #00af00; text-decoration-color: #00af00\">0</span> │\n",
              "├──────────────────────────────────────┼─────────────────────────────┼─────────────────┤\n",
              "│ conv2d_5 (<span style=\"color: #0087ff; text-decoration-color: #0087ff\">Conv2D</span>)                    │ (<span style=\"color: #00d7ff; text-decoration-color: #00d7ff\">None</span>, <span style=\"color: #00af00; text-decoration-color: #00af00\">52</span>, <span style=\"color: #00af00; text-decoration-color: #00af00\">52</span>, <span style=\"color: #00af00; text-decoration-color: #00af00\">128</span>)         │          <span style=\"color: #00af00; text-decoration-color: #00af00\">73,856</span> │\n",
              "├──────────────────────────────────────┼─────────────────────────────┼─────────────────┤\n",
              "│ max_pooling2d_5 (<span style=\"color: #0087ff; text-decoration-color: #0087ff\">MaxPooling2D</span>)       │ (<span style=\"color: #00d7ff; text-decoration-color: #00d7ff\">None</span>, <span style=\"color: #00af00; text-decoration-color: #00af00\">26</span>, <span style=\"color: #00af00; text-decoration-color: #00af00\">26</span>, <span style=\"color: #00af00; text-decoration-color: #00af00\">128</span>)         │               <span style=\"color: #00af00; text-decoration-color: #00af00\">0</span> │\n",
              "├──────────────────────────────────────┼─────────────────────────────┼─────────────────┤\n",
              "│ flatten_1 (<span style=\"color: #0087ff; text-decoration-color: #0087ff\">Flatten</span>)                  │ (<span style=\"color: #00d7ff; text-decoration-color: #00d7ff\">None</span>, <span style=\"color: #00af00; text-decoration-color: #00af00\">86528</span>)               │               <span style=\"color: #00af00; text-decoration-color: #00af00\">0</span> │\n",
              "├──────────────────────────────────────┼─────────────────────────────┼─────────────────┤\n",
              "│ dense_2 (<span style=\"color: #0087ff; text-decoration-color: #0087ff\">Dense</span>)                      │ (<span style=\"color: #00d7ff; text-decoration-color: #00d7ff\">None</span>, <span style=\"color: #00af00; text-decoration-color: #00af00\">128</span>)                 │      <span style=\"color: #00af00; text-decoration-color: #00af00\">11,075,712</span> │\n",
              "├──────────────────────────────────────┼─────────────────────────────┼─────────────────┤\n",
              "│ dropout_1 (<span style=\"color: #0087ff; text-decoration-color: #0087ff\">Dropout</span>)                  │ (<span style=\"color: #00d7ff; text-decoration-color: #00d7ff\">None</span>, <span style=\"color: #00af00; text-decoration-color: #00af00\">128</span>)                 │               <span style=\"color: #00af00; text-decoration-color: #00af00\">0</span> │\n",
              "├──────────────────────────────────────┼─────────────────────────────┼─────────────────┤\n",
              "│ dense_3 (<span style=\"color: #0087ff; text-decoration-color: #0087ff\">Dense</span>)                      │ (<span style=\"color: #00d7ff; text-decoration-color: #00d7ff\">None</span>, <span style=\"color: #00af00; text-decoration-color: #00af00\">1</span>)                   │             <span style=\"color: #00af00; text-decoration-color: #00af00\">129</span> │\n",
              "└──────────────────────────────────────┴─────────────────────────────┴─────────────────┘\n",
              "</pre>\n"
            ],
            "text/plain": [
              "┏━━━━━━━━━━━━━━━━━━━━━━━━━━━━━━━━━━━━━━┳━━━━━━━━━━━━━━━━━━━━━━━━━━━━━┳━━━━━━━━━━━━━━━━━┓\n",
              "┃\u001b[1m \u001b[0m\u001b[1mLayer (type)                        \u001b[0m\u001b[1m \u001b[0m┃\u001b[1m \u001b[0m\u001b[1mOutput Shape               \u001b[0m\u001b[1m \u001b[0m┃\u001b[1m \u001b[0m\u001b[1m        Param #\u001b[0m\u001b[1m \u001b[0m┃\n",
              "┡━━━━━━━━━━━━━━━━━━━━━━━━━━━━━━━━━━━━━━╇━━━━━━━━━━━━━━━━━━━━━━━━━━━━━╇━━━━━━━━━━━━━━━━━┩\n",
              "│ conv2d_3 (\u001b[38;5;33mConv2D\u001b[0m)                    │ (\u001b[38;5;45mNone\u001b[0m, \u001b[38;5;34m222\u001b[0m, \u001b[38;5;34m222\u001b[0m, \u001b[38;5;34m32\u001b[0m)        │             \u001b[38;5;34m896\u001b[0m │\n",
              "├──────────────────────────────────────┼─────────────────────────────┼─────────────────┤\n",
              "│ max_pooling2d_3 (\u001b[38;5;33mMaxPooling2D\u001b[0m)       │ (\u001b[38;5;45mNone\u001b[0m, \u001b[38;5;34m111\u001b[0m, \u001b[38;5;34m111\u001b[0m, \u001b[38;5;34m32\u001b[0m)        │               \u001b[38;5;34m0\u001b[0m │\n",
              "├──────────────────────────────────────┼─────────────────────────────┼─────────────────┤\n",
              "│ conv2d_4 (\u001b[38;5;33mConv2D\u001b[0m)                    │ (\u001b[38;5;45mNone\u001b[0m, \u001b[38;5;34m109\u001b[0m, \u001b[38;5;34m109\u001b[0m, \u001b[38;5;34m64\u001b[0m)        │          \u001b[38;5;34m18,496\u001b[0m │\n",
              "├──────────────────────────────────────┼─────────────────────────────┼─────────────────┤\n",
              "│ max_pooling2d_4 (\u001b[38;5;33mMaxPooling2D\u001b[0m)       │ (\u001b[38;5;45mNone\u001b[0m, \u001b[38;5;34m54\u001b[0m, \u001b[38;5;34m54\u001b[0m, \u001b[38;5;34m64\u001b[0m)          │               \u001b[38;5;34m0\u001b[0m │\n",
              "├──────────────────────────────────────┼─────────────────────────────┼─────────────────┤\n",
              "│ conv2d_5 (\u001b[38;5;33mConv2D\u001b[0m)                    │ (\u001b[38;5;45mNone\u001b[0m, \u001b[38;5;34m52\u001b[0m, \u001b[38;5;34m52\u001b[0m, \u001b[38;5;34m128\u001b[0m)         │          \u001b[38;5;34m73,856\u001b[0m │\n",
              "├──────────────────────────────────────┼─────────────────────────────┼─────────────────┤\n",
              "│ max_pooling2d_5 (\u001b[38;5;33mMaxPooling2D\u001b[0m)       │ (\u001b[38;5;45mNone\u001b[0m, \u001b[38;5;34m26\u001b[0m, \u001b[38;5;34m26\u001b[0m, \u001b[38;5;34m128\u001b[0m)         │               \u001b[38;5;34m0\u001b[0m │\n",
              "├──────────────────────────────────────┼─────────────────────────────┼─────────────────┤\n",
              "│ flatten_1 (\u001b[38;5;33mFlatten\u001b[0m)                  │ (\u001b[38;5;45mNone\u001b[0m, \u001b[38;5;34m86528\u001b[0m)               │               \u001b[38;5;34m0\u001b[0m │\n",
              "├──────────────────────────────────────┼─────────────────────────────┼─────────────────┤\n",
              "│ dense_2 (\u001b[38;5;33mDense\u001b[0m)                      │ (\u001b[38;5;45mNone\u001b[0m, \u001b[38;5;34m128\u001b[0m)                 │      \u001b[38;5;34m11,075,712\u001b[0m │\n",
              "├──────────────────────────────────────┼─────────────────────────────┼─────────────────┤\n",
              "│ dropout_1 (\u001b[38;5;33mDropout\u001b[0m)                  │ (\u001b[38;5;45mNone\u001b[0m, \u001b[38;5;34m128\u001b[0m)                 │               \u001b[38;5;34m0\u001b[0m │\n",
              "├──────────────────────────────────────┼─────────────────────────────┼─────────────────┤\n",
              "│ dense_3 (\u001b[38;5;33mDense\u001b[0m)                      │ (\u001b[38;5;45mNone\u001b[0m, \u001b[38;5;34m1\u001b[0m)                   │             \u001b[38;5;34m129\u001b[0m │\n",
              "└──────────────────────────────────────┴─────────────────────────────┴─────────────────┘\n"
            ]
          },
          "metadata": {},
          "output_type": "display_data"
        },
        {
          "data": {
            "text/html": [
              "<pre style=\"white-space:pre;overflow-x:auto;line-height:normal;font-family:Menlo,'DejaVu Sans Mono',consolas,'Courier New',monospace\"><span style=\"font-weight: bold\"> Total params: </span><span style=\"color: #00af00; text-decoration-color: #00af00\">11,169,089</span> (42.61 MB)\n",
              "</pre>\n"
            ],
            "text/plain": [
              "\u001b[1m Total params: \u001b[0m\u001b[38;5;34m11,169,089\u001b[0m (42.61 MB)\n"
            ]
          },
          "metadata": {},
          "output_type": "display_data"
        },
        {
          "data": {
            "text/html": [
              "<pre style=\"white-space:pre;overflow-x:auto;line-height:normal;font-family:Menlo,'DejaVu Sans Mono',consolas,'Courier New',monospace\"><span style=\"font-weight: bold\"> Trainable params: </span><span style=\"color: #00af00; text-decoration-color: #00af00\">11,169,089</span> (42.61 MB)\n",
              "</pre>\n"
            ],
            "text/plain": [
              "\u001b[1m Trainable params: \u001b[0m\u001b[38;5;34m11,169,089\u001b[0m (42.61 MB)\n"
            ]
          },
          "metadata": {},
          "output_type": "display_data"
        },
        {
          "data": {
            "text/html": [
              "<pre style=\"white-space:pre;overflow-x:auto;line-height:normal;font-family:Menlo,'DejaVu Sans Mono',consolas,'Courier New',monospace\"><span style=\"font-weight: bold\"> Non-trainable params: </span><span style=\"color: #00af00; text-decoration-color: #00af00\">0</span> (0.00 B)\n",
              "</pre>\n"
            ],
            "text/plain": [
              "\u001b[1m Non-trainable params: \u001b[0m\u001b[38;5;34m0\u001b[0m (0.00 B)\n"
            ]
          },
          "metadata": {},
          "output_type": "display_data"
        }
      ],
      "source": [
        "from tensorflow.keras import layers, models\n",
        "\n",
        "model = models.Sequential([\n",
        "    layers.Conv2D(32, (3, 3), activation='relu', input_shape=(224, 224, 3)),\n",
        "    layers.MaxPooling2D((2, 2)),\n",
        "    layers.Conv2D(64, (3, 3), activation='relu'),\n",
        "    layers.MaxPooling2D((2, 2)),\n",
        "    layers.Conv2D(128, (3, 3), activation='relu'),\n",
        "    layers.MaxPooling2D((2, 2)),\n",
        "    layers.Flatten(),\n",
        "    layers.Dense(128, activation='relu'),\n",
        "    layers.Dropout(0.5),  # Prevent overfitting\n",
        "    layers.Dense(1, activation='sigmoid')  # Binary classification\n",
        "])\n",
        "\n",
        "model.summary()"
      ]
    },
    {
      "cell_type": "code",
      "execution_count": null,
      "metadata": {
        "id": "Y6e83Vy_1LCW"
      },
      "outputs": [],
      "source": [
        "model.compile(\n",
        "    optimizer='adam',\n",
        "    loss='binary_crossentropy',\n",
        "    metrics=['accuracy']\n",
        ")"
      ]
    },
    {
      "cell_type": "code",
      "execution_count": null,
      "metadata": {
        "colab": {
          "base_uri": "https://localhost:8080/",
          "height": 478
        },
        "id": "2nmEZMSx1NyS",
        "outputId": "2f6d8e58-7dd3-4018-eaaa-2f5d235d63c1"
      },
      "outputs": [
        {
          "name": "stdout",
          "output_type": "stream",
          "text": [
            "Epoch 1/10\n",
            "\u001b[1m25/25\u001b[0m \u001b[32m━━━━━━━━━━━━━━━━━━━━\u001b[0m\u001b[37m\u001b[0m \u001b[1m102s\u001b[0m 4s/step - accuracy: 0.5070 - loss: 1.2285 - val_accuracy: 0.7143 - val_loss: 0.6608\n",
            "Epoch 2/10\n",
            "\u001b[1m25/25\u001b[0m \u001b[32m━━━━━━━━━━━━━━━━━━━━\u001b[0m\u001b[37m\u001b[0m \u001b[1m131s\u001b[0m 4s/step - accuracy: 0.6505 - loss: 0.6532 - val_accuracy: 0.7449 - val_loss: 0.6026\n",
            "Epoch 3/10\n",
            "\u001b[1m25/25\u001b[0m \u001b[32m━━━━━━━━━━━━━━━━━━━━\u001b[0m\u001b[37m\u001b[0m \u001b[1m144s\u001b[0m 4s/step - accuracy: 0.6739 - loss: 0.6020 - val_accuracy: 0.7143 - val_loss: 0.5103\n",
            "Epoch 4/10\n"
          ]
        },
        {
          "ename": "KeyboardInterrupt",
          "evalue": "",
          "output_type": "error",
          "traceback": [
            "\u001b[0;31m---------------------------------------------------------------------------\u001b[0m",
            "\u001b[0;31mKeyboardInterrupt\u001b[0m                         Traceback (most recent call last)",
            "\u001b[0;32m<ipython-input-14-20ccbb55d66e>\u001b[0m in \u001b[0;36m<cell line: 1>\u001b[0;34m()\u001b[0m\n\u001b[0;32m----> 1\u001b[0;31m history = model.fit(\n\u001b[0m\u001b[1;32m      2\u001b[0m     \u001b[0mtrain_ds\u001b[0m\u001b[0;34m,\u001b[0m\u001b[0;34m\u001b[0m\u001b[0;34m\u001b[0m\u001b[0m\n\u001b[1;32m      3\u001b[0m     \u001b[0mvalidation_data\u001b[0m\u001b[0;34m=\u001b[0m\u001b[0mval_ds\u001b[0m\u001b[0;34m,\u001b[0m\u001b[0;34m\u001b[0m\u001b[0;34m\u001b[0m\u001b[0m\n\u001b[1;32m      4\u001b[0m     \u001b[0mepochs\u001b[0m\u001b[0;34m=\u001b[0m\u001b[0;36m10\u001b[0m\u001b[0;34m\u001b[0m\u001b[0;34m\u001b[0m\u001b[0m\n\u001b[1;32m      5\u001b[0m )\n",
            "\u001b[0;32m/usr/local/lib/python3.10/dist-packages/keras/src/utils/traceback_utils.py\u001b[0m in \u001b[0;36merror_handler\u001b[0;34m(*args, **kwargs)\u001b[0m\n\u001b[1;32m    115\u001b[0m         \u001b[0mfiltered_tb\u001b[0m \u001b[0;34m=\u001b[0m \u001b[0;32mNone\u001b[0m\u001b[0;34m\u001b[0m\u001b[0;34m\u001b[0m\u001b[0m\n\u001b[1;32m    116\u001b[0m         \u001b[0;32mtry\u001b[0m\u001b[0;34m:\u001b[0m\u001b[0;34m\u001b[0m\u001b[0;34m\u001b[0m\u001b[0m\n\u001b[0;32m--> 117\u001b[0;31m             \u001b[0;32mreturn\u001b[0m \u001b[0mfn\u001b[0m\u001b[0;34m(\u001b[0m\u001b[0;34m*\u001b[0m\u001b[0margs\u001b[0m\u001b[0;34m,\u001b[0m \u001b[0;34m**\u001b[0m\u001b[0mkwargs\u001b[0m\u001b[0;34m)\u001b[0m\u001b[0;34m\u001b[0m\u001b[0;34m\u001b[0m\u001b[0m\n\u001b[0m\u001b[1;32m    118\u001b[0m         \u001b[0;32mexcept\u001b[0m \u001b[0mException\u001b[0m \u001b[0;32mas\u001b[0m \u001b[0me\u001b[0m\u001b[0;34m:\u001b[0m\u001b[0;34m\u001b[0m\u001b[0;34m\u001b[0m\u001b[0m\n\u001b[1;32m    119\u001b[0m             \u001b[0mfiltered_tb\u001b[0m \u001b[0;34m=\u001b[0m \u001b[0m_process_traceback_frames\u001b[0m\u001b[0;34m(\u001b[0m\u001b[0me\u001b[0m\u001b[0;34m.\u001b[0m\u001b[0m__traceback__\u001b[0m\u001b[0;34m)\u001b[0m\u001b[0;34m\u001b[0m\u001b[0;34m\u001b[0m\u001b[0m\n",
            "\u001b[0;32m/usr/local/lib/python3.10/dist-packages/keras/src/backend/tensorflow/trainer.py\u001b[0m in \u001b[0;36mfit\u001b[0;34m(self, x, y, batch_size, epochs, verbose, callbacks, validation_split, validation_data, shuffle, class_weight, sample_weight, initial_epoch, steps_per_epoch, validation_steps, validation_batch_size, validation_freq)\u001b[0m\n\u001b[1;32m    317\u001b[0m             \u001b[0;32mwith\u001b[0m \u001b[0mepoch_iterator\u001b[0m\u001b[0;34m.\u001b[0m\u001b[0mcatch_stop_iteration\u001b[0m\u001b[0;34m(\u001b[0m\u001b[0;34m)\u001b[0m\u001b[0;34m:\u001b[0m\u001b[0;34m\u001b[0m\u001b[0;34m\u001b[0m\u001b[0m\n\u001b[1;32m    318\u001b[0m                 \u001b[0;32mfor\u001b[0m \u001b[0mstep\u001b[0m\u001b[0;34m,\u001b[0m \u001b[0miterator\u001b[0m \u001b[0;32min\u001b[0m \u001b[0mepoch_iterator\u001b[0m\u001b[0;34m.\u001b[0m\u001b[0menumerate_epoch\u001b[0m\u001b[0;34m(\u001b[0m\u001b[0;34m)\u001b[0m\u001b[0;34m:\u001b[0m\u001b[0;34m\u001b[0m\u001b[0;34m\u001b[0m\u001b[0m\n\u001b[0;32m--> 319\u001b[0;31m                     \u001b[0mcallbacks\u001b[0m\u001b[0;34m.\u001b[0m\u001b[0mon_train_batch_begin\u001b[0m\u001b[0;34m(\u001b[0m\u001b[0mstep\u001b[0m\u001b[0;34m)\u001b[0m\u001b[0;34m\u001b[0m\u001b[0;34m\u001b[0m\u001b[0m\n\u001b[0m\u001b[1;32m    320\u001b[0m                     \u001b[0mlogs\u001b[0m \u001b[0;34m=\u001b[0m \u001b[0mself\u001b[0m\u001b[0;34m.\u001b[0m\u001b[0mtrain_function\u001b[0m\u001b[0;34m(\u001b[0m\u001b[0miterator\u001b[0m\u001b[0;34m)\u001b[0m\u001b[0;34m\u001b[0m\u001b[0;34m\u001b[0m\u001b[0m\n\u001b[1;32m    321\u001b[0m                     \u001b[0mlogs\u001b[0m \u001b[0;34m=\u001b[0m \u001b[0mself\u001b[0m\u001b[0;34m.\u001b[0m\u001b[0m_pythonify_logs\u001b[0m\u001b[0;34m(\u001b[0m\u001b[0mlogs\u001b[0m\u001b[0;34m)\u001b[0m\u001b[0;34m\u001b[0m\u001b[0;34m\u001b[0m\u001b[0m\n",
            "\u001b[0;32m/usr/local/lib/python3.10/dist-packages/keras/src/callbacks/callback_list.py\u001b[0m in \u001b[0;36mon_train_batch_begin\u001b[0;34m(self, batch, logs)\u001b[0m\n\u001b[1;32m     96\u001b[0m             \u001b[0mcallback\u001b[0m\u001b[0;34m.\u001b[0m\u001b[0mon_epoch_end\u001b[0m\u001b[0;34m(\u001b[0m\u001b[0mepoch\u001b[0m\u001b[0;34m,\u001b[0m \u001b[0mlogs\u001b[0m\u001b[0;34m)\u001b[0m\u001b[0;34m\u001b[0m\u001b[0;34m\u001b[0m\u001b[0m\n\u001b[1;32m     97\u001b[0m \u001b[0;34m\u001b[0m\u001b[0m\n\u001b[0;32m---> 98\u001b[0;31m     \u001b[0;32mdef\u001b[0m \u001b[0mon_train_batch_begin\u001b[0m\u001b[0;34m(\u001b[0m\u001b[0mself\u001b[0m\u001b[0;34m,\u001b[0m \u001b[0mbatch\u001b[0m\u001b[0;34m,\u001b[0m \u001b[0mlogs\u001b[0m\u001b[0;34m=\u001b[0m\u001b[0;32mNone\u001b[0m\u001b[0;34m)\u001b[0m\u001b[0;34m:\u001b[0m\u001b[0;34m\u001b[0m\u001b[0;34m\u001b[0m\u001b[0m\n\u001b[0m\u001b[1;32m     99\u001b[0m         \u001b[0mlogs\u001b[0m \u001b[0;34m=\u001b[0m \u001b[0mlogs\u001b[0m \u001b[0;32mor\u001b[0m \u001b[0;34m{\u001b[0m\u001b[0;34m}\u001b[0m\u001b[0;34m\u001b[0m\u001b[0;34m\u001b[0m\u001b[0m\n\u001b[1;32m    100\u001b[0m         \u001b[0;32mfor\u001b[0m \u001b[0mcallback\u001b[0m \u001b[0;32min\u001b[0m \u001b[0mself\u001b[0m\u001b[0;34m.\u001b[0m\u001b[0mcallbacks\u001b[0m\u001b[0;34m:\u001b[0m\u001b[0;34m\u001b[0m\u001b[0;34m\u001b[0m\u001b[0m\n",
            "\u001b[0;31mKeyboardInterrupt\u001b[0m: "
          ]
        }
      ],
      "source": [
        "history = model.fit(\n",
        "    train_ds,\n",
        "    validation_data=val_ds,\n",
        "    epochs=10\n",
        ")"
      ]
    },
    {
      "cell_type": "code",
      "execution_count": null,
      "metadata": {
        "colab": {
          "base_uri": "https://localhost:8080/"
        },
        "id": "R0_15izy1RKH",
        "outputId": "9e5aae21-d9b0-47dd-ccba-5d01ec197517"
      },
      "outputs": [
        {
          "name": "stdout",
          "output_type": "stream",
          "text": [
            "\u001b[1m4/4\u001b[0m \u001b[32m━━━━━━━━━━━━━━━━━━━━\u001b[0m\u001b[37m\u001b[0m \u001b[1m3s\u001b[0m 614ms/step - accuracy: 0.6512 - loss: 0.5832\n",
            "Test Accuracy: 68.00%\n"
          ]
        }
      ],
      "source": [
        "test_loss, test_accuracy = model.evaluate(test_ds)\n",
        "print(f\"Test Accuracy: {test_accuracy * 100:.2f}%\")"
      ]
    },
    {
      "cell_type": "markdown",
      "source": [
        "# CNN Trial 2"
      ],
      "metadata": {
        "id": "gU18rFzc7BYu"
      }
    },
    {
      "cell_type": "code",
      "source": [
        "import warnings\n",
        "warnings.filterwarnings(\"ignore\")"
      ],
      "metadata": {
        "id": "ZX82zRSL7Pqv"
      },
      "execution_count": null,
      "outputs": []
    },
    {
      "cell_type": "code",
      "source": [
        "import os\n",
        "import numpy as np\n",
        "import matplotlib.pyplot as plt\n",
        "import tensorflow as tf"
      ],
      "metadata": {
        "id": "hHT3QVnw7anI"
      },
      "execution_count": null,
      "outputs": []
    },
    {
      "cell_type": "code",
      "source": [
        "tr_data_dir = \"/root/.cache/kagglehub/datasets/ckay16/accident-detection-from-cctv-footage/versions/1/data/train\"\n",
        "tr_data = tf.keras.utils.image_dataset_from_directory(tr_data_dir,image_size=(256, 256),seed = 12332)"
      ],
      "metadata": {
        "colab": {
          "base_uri": "https://localhost:8080/"
        },
        "id": "uOqGr4JO7a8l",
        "outputId": "fcf8f93c-f990-48a7-b5af-5e8457089d03"
      },
      "execution_count": null,
      "outputs": [
        {
          "output_type": "stream",
          "name": "stdout",
          "text": [
            "Found 791 files belonging to 2 classes.\n"
          ]
        }
      ]
    },
    {
      "cell_type": "code",
      "source": [
        "tr_data_iterator = tr_data.as_numpy_iterator()\n",
        "tr_batch = tr_data_iterator.next()"
      ],
      "metadata": {
        "id": "6J86gtr_7fta"
      },
      "execution_count": null,
      "outputs": []
    },
    {
      "cell_type": "code",
      "source": [
        "len(tr_batch[0])"
      ],
      "metadata": {
        "colab": {
          "base_uri": "https://localhost:8080/"
        },
        "id": "OzL5CpTS8fbI",
        "outputId": "19a87010-231a-44ea-fa33-9f46fd73dfda"
      },
      "execution_count": null,
      "outputs": [
        {
          "output_type": "execute_result",
          "data": {
            "text/plain": [
              "32"
            ]
          },
          "metadata": {},
          "execution_count": 9
        }
      ]
    },
    {
      "cell_type": "code",
      "source": [
        "def label_to_category(label):\n",
        "    if(label == 1):\n",
        "        return \"No Accident\"\n",
        "    elif label == 0:\n",
        "        return \"Accident\"\n",
        "    else :\n",
        "        return \"error\""
      ],
      "metadata": {
        "id": "noV9XQ6m8hTi"
      },
      "execution_count": null,
      "outputs": []
    },
    {
      "cell_type": "code",
      "source": [
        "cols = 4\n",
        "rows = 4\n",
        "fig, ax = plt.subplots(nrows= rows , ncols= cols,figsize=(15,15),layout='constrained')\n",
        "fig.tight_layout(pad=2)\n",
        "\n",
        "\n",
        "\n",
        "\n",
        "for outer_index, img in enumerate(tr_batch[0][:]):\n",
        "    if outer_index >= rows*cols:\n",
        "        break\n",
        "\n",
        "    if (outer_index % cols == 0):\n",
        "        for inner_index, img in enumerate(tr_batch[0][outer_index:outer_index+cols]):\n",
        "\n",
        "\n",
        "            ax[outer_index//cols][inner_index].imshow(img.astype(int))\n",
        "\n",
        "            label = label_to_category(tr_batch[1][outer_index + inner_index])\n",
        "\n",
        "\n",
        "            ax[outer_index//cols][inner_index].set_aspect(1)\n",
        "\n",
        "            num_label = tr_batch[1][outer_index + inner_index]\n",
        "\n",
        "            ax[outer_index//cols][inner_index].axis(\"off\")\n",
        "            ax[outer_index//cols][inner_index].title.set_text(label)\n",
        "\n",
        "\n",
        "plt.savefig(\"test.png\")\n",
        "plt.show()"
      ],
      "metadata": {
        "colab": {
          "base_uri": "https://localhost:8080/",
          "height": 1000
        },
        "id": "tM891FeN8jai",
        "outputId": "97083454-bff0-465c-8811-016ff933a0e4"
      },
      "execution_count": null,
      "outputs": []
    },
    {
      "cell_type": "markdown",
      "source": [
        "Preprocessing Data"
      ],
      "metadata": {
        "id": "4YUDxjOP8v3Y"
      }
    },
    {
      "cell_type": "code",
      "source": [
        "tr_data = tr_data.map(lambda x,y: (x/255, y))"
      ],
      "metadata": {
        "id": "WeXbYFCE8l92"
      },
      "execution_count": null,
      "outputs": []
    },
    {
      "cell_type": "code",
      "source": [
        "tr_batch = tr_data.as_numpy_iterator().next()"
      ],
      "metadata": {
        "id": "8kpKe5Yl8yAC"
      },
      "execution_count": null,
      "outputs": []
    },
    {
      "cell_type": "code",
      "source": [
        "print(\"Max pixel value : \",tr_batch[0].max())\n",
        "print(\"Min pixel value : \",tr_batch[0].min())"
      ],
      "metadata": {
        "colab": {
          "base_uri": "https://localhost:8080/"
        },
        "id": "BNFyem_78zx9",
        "outputId": "aff92c83-654a-4ab4-9976-4350a940f38a"
      },
      "execution_count": null,
      "outputs": [
        {
          "output_type": "stream",
          "name": "stdout",
          "text": [
            "Max pixel value :  1.0\n",
            "Min pixel value :  0.0\n"
          ]
        }
      ]
    },
    {
      "cell_type": "code",
      "source": [
        "cols = 4\n",
        "rows = 4\n",
        "fig, ax = plt.subplots(nrows= rows , ncols= cols,figsize=(15,15),layout='constrained')\n",
        "fig.tight_layout(pad=2)\n",
        "\n",
        "\n",
        "\n",
        "\n",
        "for outer_index, img in enumerate(tr_batch[0][:]):\n",
        "    if outer_index >= rows*cols:\n",
        "        break\n",
        "\n",
        "    if (outer_index % cols == 0):\n",
        "        for inner_index, img in enumerate(tr_batch[0][outer_index:outer_index+cols]):\n",
        "\n",
        "\n",
        "            ax[outer_index//cols][inner_index].imshow(img)\n",
        "            if(tr_batch[1][outer_index + inner_index] == 0):\n",
        "               label = \" Accident\"\n",
        "            else: label = \" No Accident\"\n",
        "\n",
        "\n",
        "\n",
        "\n",
        "            ax[outer_index//cols][inner_index].set_aspect(1)\n",
        "\n",
        "            num_label = tr_batch[1][outer_index + inner_index]\n",
        "\n",
        "            ax[outer_index//cols][inner_index].axis(\"off\")\n",
        "            ax[outer_index//cols][inner_index].title.set_text(label)\n",
        "\n",
        "\n",
        "plt.savefig(\"test.png\")\n",
        "plt.show()"
      ],
      "metadata": {
        "colab": {
          "base_uri": "https://localhost:8080/",
          "height": 1000
        },
        "id": "a4pgAlld81PC",
        "outputId": "6cd45ff1-84fa-4dc1-8d17-b91d36d5eaa6"
      },
      "execution_count": null,
      "outputs": []
    },
    {
      "cell_type": "code",
      "source": [
        "val_data_dir = \"/root/.cache/kagglehub/datasets/ckay16/accident-detection-from-cctv-footage/versions/1/data/val\"\n",
        "val_data = tf.keras.utils.image_dataset_from_directory(val_data_dir)\n",
        "val_data_iterator = val_data.as_numpy_iterator()\n",
        "val_batch = val_data_iterator.next()"
      ],
      "metadata": {
        "colab": {
          "base_uri": "https://localhost:8080/"
        },
        "id": "5YNybGVA84JD",
        "outputId": "f45f2d64-f933-42dd-b0b6-8deca73a0e78"
      },
      "execution_count": null,
      "outputs": [
        {
          "output_type": "stream",
          "name": "stdout",
          "text": [
            "Found 98 files belonging to 2 classes.\n"
          ]
        }
      ]
    },
    {
      "cell_type": "code",
      "source": [
        "# Normalizing Validation data\n",
        "val_data = val_data.map(lambda x,y: (x/255, y))\n",
        "val_batch = val_data.as_numpy_iterator().next()"
      ],
      "metadata": {
        "id": "BbHGXDvh87B7"
      },
      "execution_count": null,
      "outputs": []
    },
    {
      "cell_type": "markdown",
      "source": [
        "Mdel Building"
      ],
      "metadata": {
        "id": "_zKXoUzV9FRy"
      }
    },
    {
      "cell_type": "code",
      "source": [
        "from tensorflow.keras.models import Sequential\n",
        "from tensorflow.keras.layers import Conv2D, MaxPooling2D, Dense, Flatten, Dropout"
      ],
      "metadata": {
        "id": "lRepJS0z9DN0"
      },
      "execution_count": null,
      "outputs": []
    },
    {
      "cell_type": "code",
      "source": [
        "model = Sequential()"
      ],
      "metadata": {
        "id": "JqTVjPFh9Gqq"
      },
      "execution_count": null,
      "outputs": []
    },
    {
      "cell_type": "code",
      "source": [
        "model.add(Conv2D(16, (3,3), 1, activation='relu', input_shape=(256,256,3)))\n",
        "model.add(MaxPooling2D())\n",
        "model.add(Conv2D(32, (3,3), 1, activation='relu'))\n",
        "model.add(MaxPooling2D())\n",
        "model.add(Conv2D(16, (3,3), 1, activation='relu'))\n",
        "model.add(MaxPooling2D())\n",
        "model.add(Flatten())\n",
        "# Adding neural Layer\n",
        "model.add(Dense(256, activation='relu'))\n",
        "model.add(Dense(1, activation='sigmoid'))"
      ],
      "metadata": {
        "id": "0aW5etzl9JfZ"
      },
      "execution_count": null,
      "outputs": []
    },
    {
      "cell_type": "code",
      "source": [
        "model.compile('adam', loss=tf.losses.BinaryCrossentropy(), metrics=['accuracy'])"
      ],
      "metadata": {
        "id": "Nx3VCERt9LJb"
      },
      "execution_count": null,
      "outputs": []
    },
    {
      "cell_type": "code",
      "source": [
        "model.summary()"
      ],
      "metadata": {
        "colab": {
          "base_uri": "https://localhost:8080/",
          "height": 417
        },
        "id": "Wf3jJo879N6p",
        "outputId": "908267e4-1f22-448a-99a9-13d302847b4e"
      },
      "execution_count": null,
      "outputs": [
        {
          "output_type": "display_data",
          "data": {
            "text/plain": [
              "\u001b[1mModel: \"sequential\"\u001b[0m\n"
            ],
            "text/html": [
              "<pre style=\"white-space:pre;overflow-x:auto;line-height:normal;font-family:Menlo,'DejaVu Sans Mono',consolas,'Courier New',monospace\"><span style=\"font-weight: bold\">Model: \"sequential\"</span>\n",
              "</pre>\n"
            ]
          },
          "metadata": {}
        },
        {
          "output_type": "display_data",
          "data": {
            "text/plain": [
              "┏━━━━━━━━━━━━━━━━━━━━━━━━━━━━━━━━━━━━━━┳━━━━━━━━━━━━━━━━━━━━━━━━━━━━━┳━━━━━━━━━━━━━━━━━┓\n",
              "┃\u001b[1m \u001b[0m\u001b[1mLayer (type)                        \u001b[0m\u001b[1m \u001b[0m┃\u001b[1m \u001b[0m\u001b[1mOutput Shape               \u001b[0m\u001b[1m \u001b[0m┃\u001b[1m \u001b[0m\u001b[1m        Param #\u001b[0m\u001b[1m \u001b[0m┃\n",
              "┡━━━━━━━━━━━━━━━━━━━━━━━━━━━━━━━━━━━━━━╇━━━━━━━━━━━━━━━━━━━━━━━━━━━━━╇━━━━━━━━━━━━━━━━━┩\n",
              "│ conv2d (\u001b[38;5;33mConv2D\u001b[0m)                      │ (\u001b[38;5;45mNone\u001b[0m, \u001b[38;5;34m254\u001b[0m, \u001b[38;5;34m254\u001b[0m, \u001b[38;5;34m16\u001b[0m)        │             \u001b[38;5;34m448\u001b[0m │\n",
              "├──────────────────────────────────────┼─────────────────────────────┼─────────────────┤\n",
              "│ max_pooling2d (\u001b[38;5;33mMaxPooling2D\u001b[0m)         │ (\u001b[38;5;45mNone\u001b[0m, \u001b[38;5;34m127\u001b[0m, \u001b[38;5;34m127\u001b[0m, \u001b[38;5;34m16\u001b[0m)        │               \u001b[38;5;34m0\u001b[0m │\n",
              "├──────────────────────────────────────┼─────────────────────────────┼─────────────────┤\n",
              "│ conv2d_1 (\u001b[38;5;33mConv2D\u001b[0m)                    │ (\u001b[38;5;45mNone\u001b[0m, \u001b[38;5;34m125\u001b[0m, \u001b[38;5;34m125\u001b[0m, \u001b[38;5;34m32\u001b[0m)        │           \u001b[38;5;34m4,640\u001b[0m │\n",
              "├──────────────────────────────────────┼─────────────────────────────┼─────────────────┤\n",
              "│ max_pooling2d_1 (\u001b[38;5;33mMaxPooling2D\u001b[0m)       │ (\u001b[38;5;45mNone\u001b[0m, \u001b[38;5;34m62\u001b[0m, \u001b[38;5;34m62\u001b[0m, \u001b[38;5;34m32\u001b[0m)          │               \u001b[38;5;34m0\u001b[0m │\n",
              "├──────────────────────────────────────┼─────────────────────────────┼─────────────────┤\n",
              "│ conv2d_2 (\u001b[38;5;33mConv2D\u001b[0m)                    │ (\u001b[38;5;45mNone\u001b[0m, \u001b[38;5;34m60\u001b[0m, \u001b[38;5;34m60\u001b[0m, \u001b[38;5;34m16\u001b[0m)          │           \u001b[38;5;34m4,624\u001b[0m │\n",
              "├──────────────────────────────────────┼─────────────────────────────┼─────────────────┤\n",
              "│ max_pooling2d_2 (\u001b[38;5;33mMaxPooling2D\u001b[0m)       │ (\u001b[38;5;45mNone\u001b[0m, \u001b[38;5;34m30\u001b[0m, \u001b[38;5;34m30\u001b[0m, \u001b[38;5;34m16\u001b[0m)          │               \u001b[38;5;34m0\u001b[0m │\n",
              "├──────────────────────────────────────┼─────────────────────────────┼─────────────────┤\n",
              "│ flatten (\u001b[38;5;33mFlatten\u001b[0m)                    │ (\u001b[38;5;45mNone\u001b[0m, \u001b[38;5;34m14400\u001b[0m)               │               \u001b[38;5;34m0\u001b[0m │\n",
              "├──────────────────────────────────────┼─────────────────────────────┼─────────────────┤\n",
              "│ dense (\u001b[38;5;33mDense\u001b[0m)                        │ (\u001b[38;5;45mNone\u001b[0m, \u001b[38;5;34m256\u001b[0m)                 │       \u001b[38;5;34m3,686,656\u001b[0m │\n",
              "├──────────────────────────────────────┼─────────────────────────────┼─────────────────┤\n",
              "│ dense_1 (\u001b[38;5;33mDense\u001b[0m)                      │ (\u001b[38;5;45mNone\u001b[0m, \u001b[38;5;34m1\u001b[0m)                   │             \u001b[38;5;34m257\u001b[0m │\n",
              "└──────────────────────────────────────┴─────────────────────────────┴─────────────────┘\n"
            ],
            "text/html": [
              "<pre style=\"white-space:pre;overflow-x:auto;line-height:normal;font-family:Menlo,'DejaVu Sans Mono',consolas,'Courier New',monospace\">┏━━━━━━━━━━━━━━━━━━━━━━━━━━━━━━━━━━━━━━┳━━━━━━━━━━━━━━━━━━━━━━━━━━━━━┳━━━━━━━━━━━━━━━━━┓\n",
              "┃<span style=\"font-weight: bold\"> Layer (type)                         </span>┃<span style=\"font-weight: bold\"> Output Shape                </span>┃<span style=\"font-weight: bold\">         Param # </span>┃\n",
              "┡━━━━━━━━━━━━━━━━━━━━━━━━━━━━━━━━━━━━━━╇━━━━━━━━━━━━━━━━━━━━━━━━━━━━━╇━━━━━━━━━━━━━━━━━┩\n",
              "│ conv2d (<span style=\"color: #0087ff; text-decoration-color: #0087ff\">Conv2D</span>)                      │ (<span style=\"color: #00d7ff; text-decoration-color: #00d7ff\">None</span>, <span style=\"color: #00af00; text-decoration-color: #00af00\">254</span>, <span style=\"color: #00af00; text-decoration-color: #00af00\">254</span>, <span style=\"color: #00af00; text-decoration-color: #00af00\">16</span>)        │             <span style=\"color: #00af00; text-decoration-color: #00af00\">448</span> │\n",
              "├──────────────────────────────────────┼─────────────────────────────┼─────────────────┤\n",
              "│ max_pooling2d (<span style=\"color: #0087ff; text-decoration-color: #0087ff\">MaxPooling2D</span>)         │ (<span style=\"color: #00d7ff; text-decoration-color: #00d7ff\">None</span>, <span style=\"color: #00af00; text-decoration-color: #00af00\">127</span>, <span style=\"color: #00af00; text-decoration-color: #00af00\">127</span>, <span style=\"color: #00af00; text-decoration-color: #00af00\">16</span>)        │               <span style=\"color: #00af00; text-decoration-color: #00af00\">0</span> │\n",
              "├──────────────────────────────────────┼─────────────────────────────┼─────────────────┤\n",
              "│ conv2d_1 (<span style=\"color: #0087ff; text-decoration-color: #0087ff\">Conv2D</span>)                    │ (<span style=\"color: #00d7ff; text-decoration-color: #00d7ff\">None</span>, <span style=\"color: #00af00; text-decoration-color: #00af00\">125</span>, <span style=\"color: #00af00; text-decoration-color: #00af00\">125</span>, <span style=\"color: #00af00; text-decoration-color: #00af00\">32</span>)        │           <span style=\"color: #00af00; text-decoration-color: #00af00\">4,640</span> │\n",
              "├──────────────────────────────────────┼─────────────────────────────┼─────────────────┤\n",
              "│ max_pooling2d_1 (<span style=\"color: #0087ff; text-decoration-color: #0087ff\">MaxPooling2D</span>)       │ (<span style=\"color: #00d7ff; text-decoration-color: #00d7ff\">None</span>, <span style=\"color: #00af00; text-decoration-color: #00af00\">62</span>, <span style=\"color: #00af00; text-decoration-color: #00af00\">62</span>, <span style=\"color: #00af00; text-decoration-color: #00af00\">32</span>)          │               <span style=\"color: #00af00; text-decoration-color: #00af00\">0</span> │\n",
              "├──────────────────────────────────────┼─────────────────────────────┼─────────────────┤\n",
              "│ conv2d_2 (<span style=\"color: #0087ff; text-decoration-color: #0087ff\">Conv2D</span>)                    │ (<span style=\"color: #00d7ff; text-decoration-color: #00d7ff\">None</span>, <span style=\"color: #00af00; text-decoration-color: #00af00\">60</span>, <span style=\"color: #00af00; text-decoration-color: #00af00\">60</span>, <span style=\"color: #00af00; text-decoration-color: #00af00\">16</span>)          │           <span style=\"color: #00af00; text-decoration-color: #00af00\">4,624</span> │\n",
              "├──────────────────────────────────────┼─────────────────────────────┼─────────────────┤\n",
              "│ max_pooling2d_2 (<span style=\"color: #0087ff; text-decoration-color: #0087ff\">MaxPooling2D</span>)       │ (<span style=\"color: #00d7ff; text-decoration-color: #00d7ff\">None</span>, <span style=\"color: #00af00; text-decoration-color: #00af00\">30</span>, <span style=\"color: #00af00; text-decoration-color: #00af00\">30</span>, <span style=\"color: #00af00; text-decoration-color: #00af00\">16</span>)          │               <span style=\"color: #00af00; text-decoration-color: #00af00\">0</span> │\n",
              "├──────────────────────────────────────┼─────────────────────────────┼─────────────────┤\n",
              "│ flatten (<span style=\"color: #0087ff; text-decoration-color: #0087ff\">Flatten</span>)                    │ (<span style=\"color: #00d7ff; text-decoration-color: #00d7ff\">None</span>, <span style=\"color: #00af00; text-decoration-color: #00af00\">14400</span>)               │               <span style=\"color: #00af00; text-decoration-color: #00af00\">0</span> │\n",
              "├──────────────────────────────────────┼─────────────────────────────┼─────────────────┤\n",
              "│ dense (<span style=\"color: #0087ff; text-decoration-color: #0087ff\">Dense</span>)                        │ (<span style=\"color: #00d7ff; text-decoration-color: #00d7ff\">None</span>, <span style=\"color: #00af00; text-decoration-color: #00af00\">256</span>)                 │       <span style=\"color: #00af00; text-decoration-color: #00af00\">3,686,656</span> │\n",
              "├──────────────────────────────────────┼─────────────────────────────┼─────────────────┤\n",
              "│ dense_1 (<span style=\"color: #0087ff; text-decoration-color: #0087ff\">Dense</span>)                      │ (<span style=\"color: #00d7ff; text-decoration-color: #00d7ff\">None</span>, <span style=\"color: #00af00; text-decoration-color: #00af00\">1</span>)                   │             <span style=\"color: #00af00; text-decoration-color: #00af00\">257</span> │\n",
              "└──────────────────────────────────────┴─────────────────────────────┴─────────────────┘\n",
              "</pre>\n"
            ]
          },
          "metadata": {}
        },
        {
          "output_type": "display_data",
          "data": {
            "text/plain": [
              "\u001b[1m Total params: \u001b[0m\u001b[38;5;34m3,696,625\u001b[0m (14.10 MB)\n"
            ],
            "text/html": [
              "<pre style=\"white-space:pre;overflow-x:auto;line-height:normal;font-family:Menlo,'DejaVu Sans Mono',consolas,'Courier New',monospace\"><span style=\"font-weight: bold\"> Total params: </span><span style=\"color: #00af00; text-decoration-color: #00af00\">3,696,625</span> (14.10 MB)\n",
              "</pre>\n"
            ]
          },
          "metadata": {}
        },
        {
          "output_type": "display_data",
          "data": {
            "text/plain": [
              "\u001b[1m Trainable params: \u001b[0m\u001b[38;5;34m3,696,625\u001b[0m (14.10 MB)\n"
            ],
            "text/html": [
              "<pre style=\"white-space:pre;overflow-x:auto;line-height:normal;font-family:Menlo,'DejaVu Sans Mono',consolas,'Courier New',monospace\"><span style=\"font-weight: bold\"> Trainable params: </span><span style=\"color: #00af00; text-decoration-color: #00af00\">3,696,625</span> (14.10 MB)\n",
              "</pre>\n"
            ]
          },
          "metadata": {}
        },
        {
          "output_type": "display_data",
          "data": {
            "text/plain": [
              "\u001b[1m Non-trainable params: \u001b[0m\u001b[38;5;34m0\u001b[0m (0.00 B)\n"
            ],
            "text/html": [
              "<pre style=\"white-space:pre;overflow-x:auto;line-height:normal;font-family:Menlo,'DejaVu Sans Mono',consolas,'Courier New',monospace\"><span style=\"font-weight: bold\"> Non-trainable params: </span><span style=\"color: #00af00; text-decoration-color: #00af00\">0</span> (0.00 B)\n",
              "</pre>\n"
            ]
          },
          "metadata": {}
        }
      ]
    },
    {
      "cell_type": "markdown",
      "source": [
        "Model Training"
      ],
      "metadata": {
        "id": "htk-8RLW9RbG"
      }
    },
    {
      "cell_type": "code",
      "source": [
        "# setting up for logging\n",
        "logdir='logs'\n",
        "tensorboard_callback = tf.keras.callbacks.TensorBoard(log_dir=logdir)"
      ],
      "metadata": {
        "id": "zj17uqns9SpA"
      },
      "execution_count": null,
      "outputs": []
    },
    {
      "cell_type": "code",
      "source": [
        "from tensorflow.keras.callbacks import EarlyStopping\n",
        "\n",
        "# Define EarlyStopping callback\n",
        "early_stopping = EarlyStopping(\n",
        "    monitor='val_loss',  # Monitor validation loss\n",
        "    patience=5,          # Number of epochs with no improvement after which to stop\n",
        "    restore_best_weights=True  # Restore model weights from the best epoch\n",
        ")\n",
        "\n",
        "# Train the model with EarlyStopping\n",
        "hist = model.fit(tr_data,\n",
        "                 epochs=20,\n",
        "                 validation_data=val_data,\n",
        "                 callbacks=[tensorboard_callback, early_stopping])\n",
        "\n",
        "# Save the trained model\n",
        "model.save(\"/content/drive/MyDrive/RoadSafe Model/accidents.keras\")"
      ],
      "metadata": {
        "colab": {
          "base_uri": "https://localhost:8080/"
        },
        "id": "MLOipvCP9Pdx",
        "outputId": "38542eb4-ef86-45a4-e72f-a659c2e1a88b"
      },
      "execution_count": null,
      "outputs": [
        {
          "output_type": "stream",
          "name": "stdout",
          "text": [
            "Epoch 1/20\n",
            "\u001b[1m25/25\u001b[0m \u001b[32m━━━━━━━━━━━━━━━━━━━━\u001b[0m\u001b[37m\u001b[0m \u001b[1m59s\u001b[0m 2s/step - accuracy: 0.9189 - loss: 0.2098 - val_accuracy: 0.8367 - val_loss: 0.3955\n",
            "Epoch 2/20\n",
            "\u001b[1m25/25\u001b[0m \u001b[32m━━━━━━━━━━━━━━━━━━━━\u001b[0m\u001b[37m\u001b[0m \u001b[1m56s\u001b[0m 2s/step - accuracy: 0.9218 - loss: 0.1991 - val_accuracy: 0.8980 - val_loss: 0.2090\n",
            "Epoch 3/20\n",
            "\u001b[1m25/25\u001b[0m \u001b[32m━━━━━━━━━━━━━━━━━━━━\u001b[0m\u001b[37m\u001b[0m \u001b[1m58s\u001b[0m 2s/step - accuracy: 0.9378 - loss: 0.1705 - val_accuracy: 0.8980 - val_loss: 0.2528\n",
            "Epoch 4/20\n",
            "\u001b[1m25/25\u001b[0m \u001b[32m━━━━━━━━━━━━━━━━━━━━\u001b[0m\u001b[37m\u001b[0m \u001b[1m59s\u001b[0m 2s/step - accuracy: 0.9556 - loss: 0.1120 - val_accuracy: 0.8980 - val_loss: 0.2624\n",
            "Epoch 5/20\n",
            "\u001b[1m25/25\u001b[0m \u001b[32m━━━━━━━━━━━━━━━━━━━━\u001b[0m\u001b[37m\u001b[0m \u001b[1m82s\u001b[0m 2s/step - accuracy: 0.9625 - loss: 0.0880 - val_accuracy: 0.9388 - val_loss: 0.1633\n",
            "Epoch 6/20\n",
            "\u001b[1m25/25\u001b[0m \u001b[32m━━━━━━━━━━━━━━━━━━━━\u001b[0m\u001b[37m\u001b[0m \u001b[1m82s\u001b[0m 2s/step - accuracy: 0.9764 - loss: 0.1035 - val_accuracy: 0.8980 - val_loss: 0.3708\n",
            "Epoch 7/20\n",
            "\u001b[1m25/25\u001b[0m \u001b[32m━━━━━━━━━━━━━━━━━━━━\u001b[0m\u001b[37m\u001b[0m \u001b[1m59s\u001b[0m 2s/step - accuracy: 0.9744 - loss: 0.0823 - val_accuracy: 0.8673 - val_loss: 0.5145\n",
            "Epoch 8/20\n",
            "\u001b[1m25/25\u001b[0m \u001b[32m━━━━━━━━━━━━━━━━━━━━\u001b[0m\u001b[37m\u001b[0m \u001b[1m59s\u001b[0m 2s/step - accuracy: 0.9730 - loss: 0.1266 - val_accuracy: 0.8980 - val_loss: 0.2607\n",
            "Epoch 9/20\n",
            "\u001b[1m25/25\u001b[0m \u001b[32m━━━━━━━━━━━━━━━━━━━━\u001b[0m\u001b[37m\u001b[0m \u001b[1m80s\u001b[0m 2s/step - accuracy: 0.9764 - loss: 0.0746 - val_accuracy: 0.8878 - val_loss: 0.2771\n",
            "Epoch 10/20\n",
            "\u001b[1m25/25\u001b[0m \u001b[32m━━━━━━━━━━━━━━━━━━━━\u001b[0m\u001b[37m\u001b[0m \u001b[1m59s\u001b[0m 2s/step - accuracy: 0.9814 - loss: 0.0579 - val_accuracy: 0.9184 - val_loss: 0.3497\n"
          ]
        }
      ]
    },
    {
      "cell_type": "code",
      "source": [
        "import tensorflow as tf\n",
        "import os\n",
        "\n",
        "# Define test data directory\n",
        "test_data_dir = \"/root/.cache/kagglehub/datasets/ckay16/accident-detection-from-cctv-footage/versions/1/data/test\"\n",
        "test_data = tf.keras.utils.image_dataset_from_directory(test_data_dir)\n",
        "\n",
        "# Convert test dataset to numpy iterator\n",
        "test_data_iterator = test_data.as_numpy_iterator()\n",
        "test_batch = test_data_iterator.next()\n",
        "\n",
        "# Define metrics\n",
        "pre = tf.keras.metrics.Precision()\n",
        "re = tf.keras.metrics.Recall()\n",
        "acc = tf.keras.metrics.BinaryAccuracy()\n",
        "\n",
        "# Loop through test dataset\n",
        "for batch in test_data:\n",
        "    X, y = batch\n",
        "    yhat = model.predict(X)\n",
        "\n",
        "    pre.update_state(y, yhat)\n",
        "    re.update_state(y, yhat)\n",
        "    acc.update_state(y, yhat)  # Update accuracy metric\n",
        "\n",
        "# Compute F1-score\n",
        "def F1_score(precision, recall):\n",
        "    return (2 * precision * recall) / (precision + recall)\n",
        "\n",
        "# Print results\n",
        "print(\"Model achieved a precision score of {:5f}\".format(pre.result()))\n",
        "print(\"Model achieved a recall score of {:5f}\".format(re.result()))\n",
        "print(\"Model achieved an accuracy score of {:5f}\".format(acc.result()))\n",
        "\n",
        "f1_score = F1_score(pre.result(), re.result())\n",
        "print(\"Model achieved an F1-score of {:5f}\".format(f1_score))\n"
      ],
      "metadata": {
        "colab": {
          "base_uri": "https://localhost:8080/"
        },
        "id": "ibYiEGriE0I7",
        "outputId": "5b7f3fc8-0179-4ea2-919a-560ca875712c"
      },
      "execution_count": null,
      "outputs": [
        {
          "output_type": "stream",
          "name": "stdout",
          "text": [
            "Found 100 files belonging to 2 classes.\n",
            "\u001b[1m1/1\u001b[0m \u001b[32m━━━━━━━━━━━━━━━━━━━━\u001b[0m\u001b[37m\u001b[0m \u001b[1m1s\u001b[0m 938ms/step\n",
            "\u001b[1m1/1\u001b[0m \u001b[32m━━━━━━━━━━━━━━━━━━━━\u001b[0m\u001b[37m\u001b[0m \u001b[1m1s\u001b[0m 549ms/step\n",
            "\u001b[1m1/1\u001b[0m \u001b[32m━━━━━━━━━━━━━━━━━━━━\u001b[0m\u001b[37m\u001b[0m \u001b[1m1s\u001b[0m 529ms/step\n",
            "\u001b[1m1/1\u001b[0m \u001b[32m━━━━━━━━━━━━━━━━━━━━\u001b[0m\u001b[37m\u001b[0m \u001b[1m0s\u001b[0m 109ms/step\n",
            "Model achieved a precision score of 0.942308\n",
            "Model achieved a recall score of 0.924528\n",
            "Model achieved an accuracy score of 0.930000\n",
            "Model achieved an F1-score of 0.933333\n"
          ]
        }
      ]
    }
  ],
  "metadata": {
    "colab": {
      "provenance": []
    },
    "kernelspec": {
      "display_name": "Python 3",
      "name": "python3"
    },
    "language_info": {
      "name": "python"
    }
  },
  "nbformat": 4,
  "nbformat_minor": 0
}